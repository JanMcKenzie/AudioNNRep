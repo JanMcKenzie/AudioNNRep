{
 "cells": [
  {
   "cell_type": "markdown",
   "metadata": {},
   "source": [
    "## XGBoost multi instrument\n",
    "\n",
    "This code is an attempt to make a classification of multiple instruments base on a single, combined spectrogram using XGBoost"
   ]
  },
  {
   "cell_type": "code",
   "execution_count": 1,
   "metadata": {},
   "outputs": [],
   "source": [
    "# Import libraries\n",
    "import numpy as np\n",
    "import pandas as pd\n",
    "import matplotlib.pyplot as plt\n",
    "\n",
    "# Import external functions from the functions folder\n",
    "import sys\n",
    "sys.path.append('../../functions')\n",
    "import functions as f\n"
   ]
  },
  {
   "cell_type": "code",
   "execution_count": 2,
   "metadata": {},
   "outputs": [],
   "source": [
    "# Set local path to the folder containing the .wav audio files\n",
    "path = 'C:/Users/lucvo/VScode/Machine_learning/Audio_data/nsynth-valid.jsonwav/nsynth-valid/audio/'"
   ]
  },
  {
   "cell_type": "code",
   "execution_count": 3,
   "metadata": {},
   "outputs": [
    {
     "name": "stderr",
     "output_type": "stream",
     "text": [
      "100%|██████████| 1000/1000 [00:00<00:00, 60061.92it/s]\n",
      "100%|██████████| 1000/1000 [00:08<00:00, 121.79it/s]\n"
     ]
    }
   ],
   "source": [
    "# Generate the dataset\n",
    "X, y = f.generate_mixed_spectrograms(1000, 3, path=path)\n",
    "\n",
    "# Flatten the dataset\n",
    "X = X.reshape(X.shape[0], -1)\n",
    "\n",
    "# Split into training, validation and test (80/10/10)\n",
    "X_train, X_val, X_test, y_train, y_val, y_test = f.split_data(X, y, 0.1, 0.1)"
   ]
  },
  {
   "cell_type": "code",
   "execution_count": 4,
   "metadata": {},
   "outputs": [],
   "source": [
    "# Import XGBoost\n",
    "import xgboost as xgb\n",
    "import tqdm as tqdm"
   ]
  },
  {
   "cell_type": "code",
   "execution_count": 5,
   "metadata": {},
   "outputs": [
    {
     "name": "stderr",
     "output_type": "stream",
     "text": [
      "  0%|          | 0/6 [00:00<?, ?it/s]c:\\Users\\lucvo\\AppData\\Local\\Programs\\Python\\Python311\\Lib\\site-packages\\xgboost\\sklearn.py:889: UserWarning: `early_stopping_rounds` in `fit` method is deprecated for better compatibility with scikit-learn, use `early_stopping_rounds` in constructor or`set_params` instead.\n",
      "  warnings.warn(\n"
     ]
    },
    {
     "name": "stdout",
     "output_type": "stream",
     "text": [
      "[0]\tvalidation_0-logloss:0.65744\tvalidation_1-logloss:0.66961\n",
      "[1]\tvalidation_0-logloss:0.62756\tvalidation_1-logloss:0.64940\n",
      "[2]\tvalidation_0-logloss:0.59728\tvalidation_1-logloss:0.63752\n",
      "[3]\tvalidation_0-logloss:0.57287\tvalidation_1-logloss:0.62486\n",
      "[4]\tvalidation_0-logloss:0.54919\tvalidation_1-logloss:0.61177\n",
      "[5]\tvalidation_0-logloss:0.52818\tvalidation_1-logloss:0.60745\n",
      "[6]\tvalidation_0-logloss:0.50923\tvalidation_1-logloss:0.59515\n",
      "[7]\tvalidation_0-logloss:0.48963\tvalidation_1-logloss:0.58771\n",
      "[8]\tvalidation_0-logloss:0.47099\tvalidation_1-logloss:0.58259\n",
      "[9]\tvalidation_0-logloss:0.45610\tvalidation_1-logloss:0.57456\n",
      "[10]\tvalidation_0-logloss:0.44139\tvalidation_1-logloss:0.56777\n",
      "[11]\tvalidation_0-logloss:0.42805\tvalidation_1-logloss:0.56101\n",
      "[12]\tvalidation_0-logloss:0.41354\tvalidation_1-logloss:0.55580\n",
      "[13]\tvalidation_0-logloss:0.39941\tvalidation_1-logloss:0.54387\n",
      "[14]\tvalidation_0-logloss:0.38785\tvalidation_1-logloss:0.53900\n",
      "[15]\tvalidation_0-logloss:0.37571\tvalidation_1-logloss:0.53560\n",
      "[16]\tvalidation_0-logloss:0.36412\tvalidation_1-logloss:0.52951\n",
      "[17]\tvalidation_0-logloss:0.35350\tvalidation_1-logloss:0.53053\n",
      "[18]\tvalidation_0-logloss:0.34215\tvalidation_1-logloss:0.52687\n",
      "[19]\tvalidation_0-logloss:0.33298\tvalidation_1-logloss:0.52432\n",
      "[20]\tvalidation_0-logloss:0.32321\tvalidation_1-logloss:0.52225\n",
      "[21]\tvalidation_0-logloss:0.31415\tvalidation_1-logloss:0.51916\n",
      "[22]\tvalidation_0-logloss:0.30500\tvalidation_1-logloss:0.51819\n",
      "[23]\tvalidation_0-logloss:0.29881\tvalidation_1-logloss:0.51810\n",
      "[24]\tvalidation_0-logloss:0.29118\tvalidation_1-logloss:0.51838\n",
      "[25]\tvalidation_0-logloss:0.28404\tvalidation_1-logloss:0.51597\n",
      "[26]\tvalidation_0-logloss:0.27818\tvalidation_1-logloss:0.51439\n",
      "[27]\tvalidation_0-logloss:0.27048\tvalidation_1-logloss:0.51094\n",
      "[28]\tvalidation_0-logloss:0.26376\tvalidation_1-logloss:0.50822\n",
      "[29]\tvalidation_0-logloss:0.25617\tvalidation_1-logloss:0.50533\n",
      "[30]\tvalidation_0-logloss:0.24905\tvalidation_1-logloss:0.50357\n",
      "[31]\tvalidation_0-logloss:0.24257\tvalidation_1-logloss:0.50362\n",
      "[32]\tvalidation_0-logloss:0.23574\tvalidation_1-logloss:0.50352\n",
      "[33]\tvalidation_0-logloss:0.22851\tvalidation_1-logloss:0.50318\n",
      "[34]\tvalidation_0-logloss:0.22187\tvalidation_1-logloss:0.50111\n",
      "[35]\tvalidation_0-logloss:0.21562\tvalidation_1-logloss:0.49974\n",
      "[36]\tvalidation_0-logloss:0.21096\tvalidation_1-logloss:0.50178\n",
      "[37]\tvalidation_0-logloss:0.20593\tvalidation_1-logloss:0.50185\n",
      "[38]\tvalidation_0-logloss:0.20090\tvalidation_1-logloss:0.49980\n",
      "[39]\tvalidation_0-logloss:0.19586\tvalidation_1-logloss:0.49730\n",
      "[40]\tvalidation_0-logloss:0.19210\tvalidation_1-logloss:0.49395\n",
      "[41]\tvalidation_0-logloss:0.18730\tvalidation_1-logloss:0.49177\n",
      "[42]\tvalidation_0-logloss:0.18286\tvalidation_1-logloss:0.49404\n",
      "[43]\tvalidation_0-logloss:0.17870\tvalidation_1-logloss:0.49174\n",
      "[44]\tvalidation_0-logloss:0.17552\tvalidation_1-logloss:0.49320\n",
      "[45]\tvalidation_0-logloss:0.17080\tvalidation_1-logloss:0.49544\n",
      "[46]\tvalidation_0-logloss:0.16704\tvalidation_1-logloss:0.49636\n",
      "[47]\tvalidation_0-logloss:0.16344\tvalidation_1-logloss:0.49600\n",
      "[48]\tvalidation_0-logloss:0.16011\tvalidation_1-logloss:0.49898\n",
      "[49]\tvalidation_0-logloss:0.15610\tvalidation_1-logloss:0.49891\n",
      "[50]\tvalidation_0-logloss:0.15205\tvalidation_1-logloss:0.49953\n",
      "[51]\tvalidation_0-logloss:0.14866\tvalidation_1-logloss:0.49852\n",
      "[52]\tvalidation_0-logloss:0.14506\tvalidation_1-logloss:0.49132\n",
      "[53]\tvalidation_0-logloss:0.14163\tvalidation_1-logloss:0.49152\n",
      "[54]\tvalidation_0-logloss:0.13825\tvalidation_1-logloss:0.49157\n",
      "[55]\tvalidation_0-logloss:0.13612\tvalidation_1-logloss:0.48715\n",
      "[56]\tvalidation_0-logloss:0.13304\tvalidation_1-logloss:0.48601\n",
      "[57]\tvalidation_0-logloss:0.12984\tvalidation_1-logloss:0.48347\n",
      "[58]\tvalidation_0-logloss:0.12731\tvalidation_1-logloss:0.48279\n",
      "[59]\tvalidation_0-logloss:0.12489\tvalidation_1-logloss:0.48188\n",
      "[60]\tvalidation_0-logloss:0.12246\tvalidation_1-logloss:0.48457\n",
      "[61]\tvalidation_0-logloss:0.12061\tvalidation_1-logloss:0.48418\n",
      "[62]\tvalidation_0-logloss:0.11782\tvalidation_1-logloss:0.48105\n",
      "[63]\tvalidation_0-logloss:0.11585\tvalidation_1-logloss:0.48181\n",
      "[64]\tvalidation_0-logloss:0.11328\tvalidation_1-logloss:0.47987\n",
      "[65]\tvalidation_0-logloss:0.11060\tvalidation_1-logloss:0.47829\n",
      "[66]\tvalidation_0-logloss:0.10881\tvalidation_1-logloss:0.47933\n",
      "[67]\tvalidation_0-logloss:0.10640\tvalidation_1-logloss:0.47986\n",
      "[68]\tvalidation_0-logloss:0.10377\tvalidation_1-logloss:0.47414\n",
      "[69]\tvalidation_0-logloss:0.10125\tvalidation_1-logloss:0.47525\n",
      "[70]\tvalidation_0-logloss:0.09936\tvalidation_1-logloss:0.47797\n",
      "[71]\tvalidation_0-logloss:0.09797\tvalidation_1-logloss:0.47840\n",
      "[72]\tvalidation_0-logloss:0.09569\tvalidation_1-logloss:0.47943\n",
      "[73]\tvalidation_0-logloss:0.09368\tvalidation_1-logloss:0.47698\n",
      "[74]\tvalidation_0-logloss:0.09193\tvalidation_1-logloss:0.47545\n",
      "[75]\tvalidation_0-logloss:0.08993\tvalidation_1-logloss:0.47412\n",
      "[76]\tvalidation_0-logloss:0.08799\tvalidation_1-logloss:0.47033\n",
      "[77]\tvalidation_0-logloss:0.08575\tvalidation_1-logloss:0.47013\n",
      "[78]\tvalidation_0-logloss:0.08440\tvalidation_1-logloss:0.47013\n",
      "[79]\tvalidation_0-logloss:0.08312\tvalidation_1-logloss:0.46674\n",
      "[80]\tvalidation_0-logloss:0.08182\tvalidation_1-logloss:0.46595\n",
      "[81]\tvalidation_0-logloss:0.08016\tvalidation_1-logloss:0.46373\n",
      "[82]\tvalidation_0-logloss:0.07853\tvalidation_1-logloss:0.46131\n",
      "[83]\tvalidation_0-logloss:0.07693\tvalidation_1-logloss:0.46070\n"
     ]
    },
    {
     "name": "stderr",
     "output_type": "stream",
     "text": [
      "  0%|          | 0/6 [05:32<?, ?it/s]\n"
     ]
    },
    {
     "ename": "KeyboardInterrupt",
     "evalue": "",
     "output_type": "error",
     "traceback": [
      "\u001b[1;31m---------------------------------------------------------------------------\u001b[0m",
      "\u001b[1;31mKeyboardInterrupt\u001b[0m                         Traceback (most recent call last)",
      "Cell \u001b[1;32mIn[5], line 12\u001b[0m\n\u001b[0;32m     10\u001b[0m model \u001b[38;5;241m=\u001b[39m xgb\u001b[38;5;241m.\u001b[39mXGBClassifier(objective\u001b[38;5;241m=\u001b[39m\u001b[38;5;124m'\u001b[39m\u001b[38;5;124mbinary:logistic\u001b[39m\u001b[38;5;124m'\u001b[39m, n_estimators\u001b[38;5;241m=\u001b[39m\u001b[38;5;241m100\u001b[39m, max_depth\u001b[38;5;241m=\u001b[39m\u001b[38;5;241m3\u001b[39m, learning_rate\u001b[38;5;241m=\u001b[39m\u001b[38;5;241m0.1\u001b[39m, n_jobs\u001b[38;5;241m=\u001b[39m\u001b[38;5;241m-\u001b[39m\u001b[38;5;241m1\u001b[39m)\n\u001b[0;32m     11\u001b[0m eval_set \u001b[38;5;241m=\u001b[39m [(X_train, y_train_cut), (X_val, y_val_cut)]\n\u001b[1;32m---> 12\u001b[0m \u001b[43mmodel\u001b[49m\u001b[38;5;241;43m.\u001b[39;49m\u001b[43mfit\u001b[49m\u001b[43m(\u001b[49m\u001b[43mX_train\u001b[49m\u001b[43m,\u001b[49m\u001b[43m \u001b[49m\u001b[43my_train_cut\u001b[49m\u001b[43m,\u001b[49m\u001b[43m \u001b[49m\u001b[43meval_set\u001b[49m\u001b[38;5;241;43m=\u001b[39;49m\u001b[43meval_set\u001b[49m\u001b[43m,\u001b[49m\u001b[43m \u001b[49m\u001b[43mearly_stopping_rounds\u001b[49m\u001b[38;5;241;43m=\u001b[39;49m\u001b[38;5;241;43m10\u001b[39;49m\u001b[43m,\u001b[49m\u001b[43m \u001b[49m\u001b[43mverbose\u001b[49m\u001b[38;5;241;43m=\u001b[39;49m\u001b[38;5;28;43;01mTrue\u001b[39;49;00m\u001b[43m)\u001b[49m\n\u001b[0;32m     13\u001b[0m models\u001b[38;5;241m.\u001b[39mappend(model)\n\u001b[0;32m     14\u001b[0m results\u001b[38;5;241m.\u001b[39mappend(model\u001b[38;5;241m.\u001b[39mevals_result())\n",
      "File \u001b[1;32mc:\\Users\\lucvo\\AppData\\Local\\Programs\\Python\\Python311\\Lib\\site-packages\\xgboost\\core.py:730\u001b[0m, in \u001b[0;36mrequire_keyword_args.<locals>.throw_if.<locals>.inner_f\u001b[1;34m(*args, **kwargs)\u001b[0m\n\u001b[0;32m    728\u001b[0m \u001b[38;5;28;01mfor\u001b[39;00m k, arg \u001b[38;5;129;01min\u001b[39;00m \u001b[38;5;28mzip\u001b[39m(sig\u001b[38;5;241m.\u001b[39mparameters, args):\n\u001b[0;32m    729\u001b[0m     kwargs[k] \u001b[38;5;241m=\u001b[39m arg\n\u001b[1;32m--> 730\u001b[0m \u001b[38;5;28;01mreturn\u001b[39;00m \u001b[43mfunc\u001b[49m\u001b[43m(\u001b[49m\u001b[38;5;241;43m*\u001b[39;49m\u001b[38;5;241;43m*\u001b[39;49m\u001b[43mkwargs\u001b[49m\u001b[43m)\u001b[49m\n",
      "File \u001b[1;32mc:\\Users\\lucvo\\AppData\\Local\\Programs\\Python\\Python311\\Lib\\site-packages\\xgboost\\sklearn.py:1519\u001b[0m, in \u001b[0;36mXGBClassifier.fit\u001b[1;34m(self, X, y, sample_weight, base_margin, eval_set, eval_metric, early_stopping_rounds, verbose, xgb_model, sample_weight_eval_set, base_margin_eval_set, feature_weights, callbacks)\u001b[0m\n\u001b[0;32m   1491\u001b[0m (\n\u001b[0;32m   1492\u001b[0m     model,\n\u001b[0;32m   1493\u001b[0m     metric,\n\u001b[1;32m   (...)\u001b[0m\n\u001b[0;32m   1498\u001b[0m     xgb_model, eval_metric, params, early_stopping_rounds, callbacks\n\u001b[0;32m   1499\u001b[0m )\n\u001b[0;32m   1500\u001b[0m train_dmatrix, evals \u001b[38;5;241m=\u001b[39m _wrap_evaluation_matrices(\n\u001b[0;32m   1501\u001b[0m     missing\u001b[38;5;241m=\u001b[39m\u001b[38;5;28mself\u001b[39m\u001b[38;5;241m.\u001b[39mmissing,\n\u001b[0;32m   1502\u001b[0m     X\u001b[38;5;241m=\u001b[39mX,\n\u001b[1;32m   (...)\u001b[0m\n\u001b[0;32m   1516\u001b[0m     feature_types\u001b[38;5;241m=\u001b[39m\u001b[38;5;28mself\u001b[39m\u001b[38;5;241m.\u001b[39mfeature_types,\n\u001b[0;32m   1517\u001b[0m )\n\u001b[1;32m-> 1519\u001b[0m \u001b[38;5;28mself\u001b[39m\u001b[38;5;241m.\u001b[39m_Booster \u001b[38;5;241m=\u001b[39m \u001b[43mtrain\u001b[49m\u001b[43m(\u001b[49m\n\u001b[0;32m   1520\u001b[0m \u001b[43m    \u001b[49m\u001b[43mparams\u001b[49m\u001b[43m,\u001b[49m\n\u001b[0;32m   1521\u001b[0m \u001b[43m    \u001b[49m\u001b[43mtrain_dmatrix\u001b[49m\u001b[43m,\u001b[49m\n\u001b[0;32m   1522\u001b[0m \u001b[43m    \u001b[49m\u001b[38;5;28;43mself\u001b[39;49m\u001b[38;5;241;43m.\u001b[39;49m\u001b[43mget_num_boosting_rounds\u001b[49m\u001b[43m(\u001b[49m\u001b[43m)\u001b[49m\u001b[43m,\u001b[49m\n\u001b[0;32m   1523\u001b[0m \u001b[43m    \u001b[49m\u001b[43mevals\u001b[49m\u001b[38;5;241;43m=\u001b[39;49m\u001b[43mevals\u001b[49m\u001b[43m,\u001b[49m\n\u001b[0;32m   1524\u001b[0m \u001b[43m    \u001b[49m\u001b[43mearly_stopping_rounds\u001b[49m\u001b[38;5;241;43m=\u001b[39;49m\u001b[43mearly_stopping_rounds\u001b[49m\u001b[43m,\u001b[49m\n\u001b[0;32m   1525\u001b[0m \u001b[43m    \u001b[49m\u001b[43mevals_result\u001b[49m\u001b[38;5;241;43m=\u001b[39;49m\u001b[43mevals_result\u001b[49m\u001b[43m,\u001b[49m\n\u001b[0;32m   1526\u001b[0m \u001b[43m    \u001b[49m\u001b[43mobj\u001b[49m\u001b[38;5;241;43m=\u001b[39;49m\u001b[43mobj\u001b[49m\u001b[43m,\u001b[49m\n\u001b[0;32m   1527\u001b[0m \u001b[43m    \u001b[49m\u001b[43mcustom_metric\u001b[49m\u001b[38;5;241;43m=\u001b[39;49m\u001b[43mmetric\u001b[49m\u001b[43m,\u001b[49m\n\u001b[0;32m   1528\u001b[0m \u001b[43m    \u001b[49m\u001b[43mverbose_eval\u001b[49m\u001b[38;5;241;43m=\u001b[39;49m\u001b[43mverbose\u001b[49m\u001b[43m,\u001b[49m\n\u001b[0;32m   1529\u001b[0m \u001b[43m    \u001b[49m\u001b[43mxgb_model\u001b[49m\u001b[38;5;241;43m=\u001b[39;49m\u001b[43mmodel\u001b[49m\u001b[43m,\u001b[49m\n\u001b[0;32m   1530\u001b[0m \u001b[43m    \u001b[49m\u001b[43mcallbacks\u001b[49m\u001b[38;5;241;43m=\u001b[39;49m\u001b[43mcallbacks\u001b[49m\u001b[43m,\u001b[49m\n\u001b[0;32m   1531\u001b[0m \u001b[43m\u001b[49m\u001b[43m)\u001b[49m\n\u001b[0;32m   1533\u001b[0m \u001b[38;5;28;01mif\u001b[39;00m \u001b[38;5;129;01mnot\u001b[39;00m \u001b[38;5;28mcallable\u001b[39m(\u001b[38;5;28mself\u001b[39m\u001b[38;5;241m.\u001b[39mobjective):\n\u001b[0;32m   1534\u001b[0m     \u001b[38;5;28mself\u001b[39m\u001b[38;5;241m.\u001b[39mobjective \u001b[38;5;241m=\u001b[39m params[\u001b[38;5;124m\"\u001b[39m\u001b[38;5;124mobjective\u001b[39m\u001b[38;5;124m\"\u001b[39m]\n",
      "File \u001b[1;32mc:\\Users\\lucvo\\AppData\\Local\\Programs\\Python\\Python311\\Lib\\site-packages\\xgboost\\core.py:730\u001b[0m, in \u001b[0;36mrequire_keyword_args.<locals>.throw_if.<locals>.inner_f\u001b[1;34m(*args, **kwargs)\u001b[0m\n\u001b[0;32m    728\u001b[0m \u001b[38;5;28;01mfor\u001b[39;00m k, arg \u001b[38;5;129;01min\u001b[39;00m \u001b[38;5;28mzip\u001b[39m(sig\u001b[38;5;241m.\u001b[39mparameters, args):\n\u001b[0;32m    729\u001b[0m     kwargs[k] \u001b[38;5;241m=\u001b[39m arg\n\u001b[1;32m--> 730\u001b[0m \u001b[38;5;28;01mreturn\u001b[39;00m \u001b[43mfunc\u001b[49m\u001b[43m(\u001b[49m\u001b[38;5;241;43m*\u001b[39;49m\u001b[38;5;241;43m*\u001b[39;49m\u001b[43mkwargs\u001b[49m\u001b[43m)\u001b[49m\n",
      "File \u001b[1;32mc:\\Users\\lucvo\\AppData\\Local\\Programs\\Python\\Python311\\Lib\\site-packages\\xgboost\\training.py:181\u001b[0m, in \u001b[0;36mtrain\u001b[1;34m(params, dtrain, num_boost_round, evals, obj, feval, maximize, early_stopping_rounds, evals_result, verbose_eval, xgb_model, callbacks, custom_metric)\u001b[0m\n\u001b[0;32m    179\u001b[0m \u001b[38;5;28;01mif\u001b[39;00m cb_container\u001b[38;5;241m.\u001b[39mbefore_iteration(bst, i, dtrain, evals):\n\u001b[0;32m    180\u001b[0m     \u001b[38;5;28;01mbreak\u001b[39;00m\n\u001b[1;32m--> 181\u001b[0m \u001b[43mbst\u001b[49m\u001b[38;5;241;43m.\u001b[39;49m\u001b[43mupdate\u001b[49m\u001b[43m(\u001b[49m\u001b[43mdtrain\u001b[49m\u001b[43m,\u001b[49m\u001b[43m \u001b[49m\u001b[43mi\u001b[49m\u001b[43m,\u001b[49m\u001b[43m \u001b[49m\u001b[43mobj\u001b[49m\u001b[43m)\u001b[49m\n\u001b[0;32m    182\u001b[0m \u001b[38;5;28;01mif\u001b[39;00m cb_container\u001b[38;5;241m.\u001b[39mafter_iteration(bst, i, dtrain, evals):\n\u001b[0;32m    183\u001b[0m     \u001b[38;5;28;01mbreak\u001b[39;00m\n",
      "File \u001b[1;32mc:\\Users\\lucvo\\AppData\\Local\\Programs\\Python\\Python311\\Lib\\site-packages\\xgboost\\core.py:2051\u001b[0m, in \u001b[0;36mBooster.update\u001b[1;34m(self, dtrain, iteration, fobj)\u001b[0m\n\u001b[0;32m   2047\u001b[0m \u001b[38;5;28mself\u001b[39m\u001b[38;5;241m.\u001b[39m_assign_dmatrix_features(dtrain)\n\u001b[0;32m   2049\u001b[0m \u001b[38;5;28;01mif\u001b[39;00m fobj \u001b[38;5;129;01mis\u001b[39;00m \u001b[38;5;28;01mNone\u001b[39;00m:\n\u001b[0;32m   2050\u001b[0m     _check_call(\n\u001b[1;32m-> 2051\u001b[0m         \u001b[43m_LIB\u001b[49m\u001b[38;5;241;43m.\u001b[39;49m\u001b[43mXGBoosterUpdateOneIter\u001b[49m\u001b[43m(\u001b[49m\n\u001b[0;32m   2052\u001b[0m \u001b[43m            \u001b[49m\u001b[38;5;28;43mself\u001b[39;49m\u001b[38;5;241;43m.\u001b[39;49m\u001b[43mhandle\u001b[49m\u001b[43m,\u001b[49m\u001b[43m \u001b[49m\u001b[43mctypes\u001b[49m\u001b[38;5;241;43m.\u001b[39;49m\u001b[43mc_int\u001b[49m\u001b[43m(\u001b[49m\u001b[43miteration\u001b[49m\u001b[43m)\u001b[49m\u001b[43m,\u001b[49m\u001b[43m \u001b[49m\u001b[43mdtrain\u001b[49m\u001b[38;5;241;43m.\u001b[39;49m\u001b[43mhandle\u001b[49m\n\u001b[0;32m   2053\u001b[0m \u001b[43m        \u001b[49m\u001b[43m)\u001b[49m\n\u001b[0;32m   2054\u001b[0m     )\n\u001b[0;32m   2055\u001b[0m \u001b[38;5;28;01melse\u001b[39;00m:\n\u001b[0;32m   2056\u001b[0m     pred \u001b[38;5;241m=\u001b[39m \u001b[38;5;28mself\u001b[39m\u001b[38;5;241m.\u001b[39mpredict(dtrain, output_margin\u001b[38;5;241m=\u001b[39m\u001b[38;5;28;01mTrue\u001b[39;00m, training\u001b[38;5;241m=\u001b[39m\u001b[38;5;28;01mTrue\u001b[39;00m)\n",
      "\u001b[1;31mKeyboardInterrupt\u001b[0m: "
     ]
    }
   ],
   "source": [
    "# Train the multi-class classification model\n",
    "models = []\n",
    "results = []\n",
    "N_intstruments = 6\n",
    "\n",
    "for i in tqdm.tqdm(range(N_intstruments)):\n",
    "    y_train_cut = y_train[:, i]\n",
    "    y_val_cut = y_val[:, i]\n",
    "\n",
    "    model = xgb.XGBClassifier(objective='binary:logistic', n_estimators=100, max_depth=3, learning_rate=0.1, n_jobs=-1)\n",
    "    eval_set = [(X_train, y_train_cut), (X_val, y_val_cut)]\n",
    "    model.fit(X_train, y_train_cut, eval_set=eval_set, early_stopping_rounds=10, verbose=True)\n",
    "    models.append(model)\n",
    "    results.append(model.evals_result())\n",
    "\n",
    "# Evaluate the model\n",
    "y_pred = np.zeros(y_test.shape)\n",
    "for i in range(N_intstruments):\n",
    "    y_pred[:, i] = models[i].predict(X_test)\n",
    "\n",
    "# Calculate the accuracy\n",
    "accuracy = np.mean(y_pred == y_test)\n",
    "print(f'Accuracy: {accuracy}')"
   ]
  },
  {
   "cell_type": "code",
   "execution_count": null,
   "metadata": {},
   "outputs": [
    {
     "name": "stdout",
     "output_type": "stream",
     "text": [
      "Accuracies for 1600 training samples:\n",
      "Accuracy for instrument organ: 0.74\n",
      "Accuracy for instrument bass: 0.62\n",
      "Accuracy for instrument guitar: 0.67\n",
      "Accuracy for instrument vocal: 0.96\n",
      "Accuracy for instrument flutes: 0.84\n",
      "Accuracy for instrument keyboards: 0.65\n",
      "\n",
      "Total accuracy: 0.7466666666666667\n"
     ]
    }
   ],
   "source": [
    "# Print the accuracy for each instrument\n",
    "instruments = ['organ', 'bass', 'guitar', 'vocal', 'flutes', 'keyboards']\n",
    "print('Accuracies for 1600 training samples:')\n",
    "for i in range(N_intstruments):\n",
    "    accuracy = np.mean(y_pred[:, i] == y_test[:, i])\n",
    "    print(f'Accuracy for instrument {instruments[i]}: {accuracy}')\n",
    "\n",
    "# Total accuracy\n",
    "accuracy = np.mean(y_pred == y_test)\n",
    "print()\n",
    "print(f'Total accuracy: {accuracy}')"
   ]
  },
  {
   "cell_type": "code",
   "execution_count": null,
   "metadata": {},
   "outputs": [],
   "source": [
    "# Save the models\n",
    "import pickle\n",
    "for i in range(N_intstruments):\n",
    "    instruments = ['organ', 'bass', 'guitar', 'vocal', 'flutes', 'keyboards']\n",
    "    filenames = [f'XGBoost_multi_inst_model_{instrument}.pkl' for instrument in instruments]\n",
    "    with open(filenames[i], 'wb') as file:\n",
    "        pickle.dump(models[i], file)"
   ]
  },
  {
   "cell_type": "code",
   "execution_count": null,
   "metadata": {},
   "outputs": [],
   "source": []
  }
 ],
 "metadata": {
  "kernelspec": {
   "display_name": "Python 3",
   "language": "python",
   "name": "python3"
  },
  "language_info": {
   "codemirror_mode": {
    "name": "ipython",
    "version": 3
   },
   "file_extension": ".py",
   "mimetype": "text/x-python",
   "name": "python",
   "nbconvert_exporter": "python",
   "pygments_lexer": "ipython3",
   "version": "3.11.5"
  }
 },
 "nbformat": 4,
 "nbformat_minor": 2
}
