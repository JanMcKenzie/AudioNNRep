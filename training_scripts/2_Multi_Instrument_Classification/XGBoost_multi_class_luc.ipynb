{
 "cells": [
  {
   "cell_type": "markdown",
   "metadata": {},
   "source": [
    "## XGBoost multi instrument\n",
    "\n",
    "This code is an attempt to make a classification of multiple instruments base on a single, combined spectrogram using XGBoost"
   ]
  },
  {
   "cell_type": "code",
   "execution_count": 2,
   "metadata": {},
   "outputs": [],
   "source": [
    "# Import libraries\n",
    "import numpy as np\n",
    "import pandas as pd\n",
    "import matplotlib.pyplot as plt\n",
    "\n",
    "# Import external functions from the functions folder\n",
    "import sys\n",
    "sys.path.append('../../functions')\n",
    "import functions as f\n"
   ]
  },
  {
   "cell_type": "code",
   "execution_count": 3,
   "metadata": {},
   "outputs": [],
   "source": [
    "# Set local path to the folder containing the .wav audio files\n",
    "path = 'C:/Users/lucvo/VScode/Machine_learning/Audio_data/nsynth-valid.jsonwav/nsynth-valid/audio/'"
   ]
  },
  {
   "cell_type": "code",
   "execution_count": 4,
   "metadata": {},
   "outputs": [
    {
     "name": "stderr",
     "output_type": "stream",
     "text": [
      "100%|██████████| 5000/5000 [00:00<00:00, 143700.59it/s]\n",
      "100%|██████████| 5000/5000 [00:42<00:00, 117.70it/s]\n"
     ]
    }
   ],
   "source": [
    "# Generate the dataset\n",
    "X, y = f.generate_mixed_spectrograms(5000, 3, path=path)\n",
    "\n",
    "# Flatten the dataset\n",
    "X = X.reshape(X.shape[0], -1)\n",
    "\n",
    "# Split into training, validation and test (80/10/10)\n",
    "X_train, X_val, X_test, y_train, y_val, y_test = f.split_data(X, y, 0.1, 0.1)"
   ]
  },
  {
   "cell_type": "code",
   "execution_count": null,
   "metadata": {},
   "outputs": [],
   "source": [
    "# Import XGBoost\n",
    "import xgboost as xgb\n",
    "import tqdm as tqdm"
   ]
  },
  {
   "cell_type": "code",
   "execution_count": null,
   "metadata": {},
   "outputs": [
    {
     "name": "stderr",
     "output_type": "stream",
     "text": [
      "  0%|          | 0/6 [00:00<?, ?it/s]c:\\Users\\lucvo\\AppData\\Local\\Programs\\Python\\Python311\\Lib\\site-packages\\xgboost\\sklearn.py:889: UserWarning: `early_stopping_rounds` in `fit` method is deprecated for better compatibility with scikit-learn, use `early_stopping_rounds` in constructor or`set_params` instead.\n",
      "  warnings.warn(\n"
     ]
    }
   ],
   "source": [
    "# Train the multi-class classification model\n",
    "models = []\n",
    "results = []\n",
    "N_intstruments = 6\n",
    "\n",
    "for i in tqdm.tqdm(range(N_intstruments)):\n",
    "    y_train_cut = y_train[:, i]\n",
    "    y_val_cut = y_val[:, i]\n",
    "\n",
    "    model = xgb.XGBClassifier(objective='binary:logistic', n_estimators=100, max_depth=3, learning_rate=0.1, n_jobs=-1)\n",
    "    eval_set = [(X_train, y_train_cut), (X_val, y_val_cut)]\n",
    "    model.fit(X_train, y_train_cut, eval_set=eval_set, eval_metric='error', early_stopping_rounds=10, verbose=False)\n",
    "    models.append(model)\n",
    "    results.append(model.evals_result())\n",
    "\n",
    "# Evaluate the model\n",
    "y_pred = np.zeros(y_test.shape)\n",
    "for i in range(N_intstruments):\n",
    "    y_pred[:, i] = models[i].predict(X_test)\n",
    "\n",
    "# Calculate the accuracy\n",
    "accuracy = np.mean(y_pred == y_test)\n",
    "print(f'Accuracy: {accuracy}')"
   ]
  },
  {
   "cell_type": "code",
   "execution_count": null,
   "metadata": {},
   "outputs": [
    {
     "name": "stdout",
     "output_type": "stream",
     "text": [
      "Accuracies for 800 training samples:\n",
      "Accuracy for instrument organ: 0.0\n",
      "Accuracy for instrument bass: 0.0\n",
      "Accuracy for instrument guitar: 0.0\n",
      "Accuracy for instrument vocal: 0.0\n",
      "Accuracy for instrument flutes: 0.0\n",
      "Accuracy for instrument keyboards: 0.0\n",
      "\n",
      "Total accuracy: 0.0\n"
     ]
    },
    {
     "name": "stderr",
     "output_type": "stream",
     "text": [
      "C:\\Users\\lucvo\\AppData\\Local\\Temp\\ipykernel_4616\\4226717231.py:5: DeprecationWarning: elementwise comparison failed; this will raise an error in the future.\n",
      "  accuracy = np.mean(y_pred[:, i] == y_test[:, i])\n",
      "C:\\Users\\lucvo\\AppData\\Local\\Temp\\ipykernel_4616\\4226717231.py:9: DeprecationWarning: elementwise comparison failed; this will raise an error in the future.\n",
      "  accuracy = np.mean(y_pred == y_test)\n"
     ]
    }
   ],
   "source": [
    "# Print the accuracy for each instrument\n",
    "instruments = ['organ', 'bass', 'guitar', 'vocal', 'flutes', 'keyboards']\n",
    "print('Accuracies for 4000 training samples:')\n",
    "for i in range(N_intstruments):\n",
    "    accuracy = np.mean(y_pred[:, i] == y_test[:, i])\n",
    "    print(f'Accuracy for instrument {instruments[i]}: {accuracy}')\n",
    "\n",
    "# Total accuracy\n",
    "accuracy = np.mean(y_pred == y_test)\n",
    "print()\n",
    "print(f'Total accuracy: {accuracy}')"
   ]
  },
  {
   "cell_type": "code",
   "execution_count": null,
   "metadata": {},
   "outputs": [],
   "source": [
    "# Save the models\n",
    "import pickle\n",
    "for i in range(N_intstruments):\n",
    "    instruments = ['organ', 'bass', 'guitar', 'vocal', 'flutes', 'keyboards']\n",
    "    filenames = [f'XGBoost_multi_inst_model_{instrument}.pkl' for instrument in instruments]\n",
    "    with open(filenames[i], 'wb') as file:\n",
    "        pickle.dump(models[i], file)"
   ]
  },
  {
   "cell_type": "code",
   "execution_count": null,
   "metadata": {},
   "outputs": [],
   "source": []
  }
 ],
 "metadata": {
  "kernelspec": {
   "display_name": "Python 3",
   "language": "python",
   "name": "python3"
  },
  "language_info": {
   "codemirror_mode": {
    "name": "ipython",
    "version": 3
   },
   "file_extension": ".py",
   "mimetype": "text/x-python",
   "name": "python",
   "nbconvert_exporter": "python",
   "pygments_lexer": "ipython3",
   "version": "3.11.5"
  }
 },
 "nbformat": 4,
 "nbformat_minor": 2
}
