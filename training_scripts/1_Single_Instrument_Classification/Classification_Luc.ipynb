{
 "cells": [
  {
   "cell_type": "code",
   "execution_count": 66,
   "metadata": {},
   "outputs": [],
   "source": [
    "# Import libraries\n",
    "import numpy as np\n",
    "import pandas as pd\n",
    "import matplotlib.pyplot as plt\n",
    "import torch\n",
    "import torch.nn as nn\n",
    "import torch.optim as optim\n",
    "\n",
    "# Import external functions from the functions folder\n",
    "import sys\n",
    "sys.path.append('../functions')\n",
    "from functions import functions as f"
   ]
  },
  {
   "cell_type": "code",
   "execution_count": 2,
   "metadata": {},
   "outputs": [],
   "source": [
    "# Set local path to the folder containing the .wav audio files\n",
    "path = 'C:/Users/lucvo/VScode/Machine_learning/Audio_data/nsynth-valid.jsonwav/nsynth-valid/audio/'"
   ]
  },
  {
   "cell_type": "code",
   "execution_count": 64,
   "metadata": {},
   "outputs": [],
   "source": [
    "filename = 'bass_electronic_018-022-025.wav'\n",
    "\n",
    "# Read the audio file using scipy\n",
    "audio_waveform, audio_framerate = f.read_wav_file_scipy(path + filename)\n",
    "\n",
    "# Create the spectrogram\n",
    "freqs, times, spectrogram = f.create_spectrogram(audio_waveform, audio_framerate)"
   ]
  },
  {
   "cell_type": "code",
   "execution_count": 65,
   "metadata": {},
   "outputs": [],
   "source": [
    "# Create a training set of spectrograms and labels\n",
    "X_train, y_train, label_dict = f.create_single_inst_classification_set(N_samples=1000, classes=['keyboard','bass','flute', 'guitar'], path=path)"
   ]
  },
  {
   "cell_type": "code",
   "execution_count": 62,
   "metadata": {},
   "outputs": [
    {
     "name": "stdout",
     "output_type": "stream",
     "text": [
      "(1000, 36765)\n",
      "(1000,)\n",
      "{0: 'keyboard', 1: 'bass', 2: 'flute', 3: 'guitar'}\n"
     ]
    }
   ],
   "source": [
    "print(X_train.shape)\n",
    "print(y_train.shape)\n",
    "print(label_dict)"
   ]
  },
  {
   "cell_type": "code",
   "execution_count": 48,
   "metadata": {},
   "outputs": [
    {
     "name": "stdout",
     "output_type": "stream",
     "text": [
      "[[-0.2637209  -0.29806834 -0.34098127 ... -0.16397429 -0.26834658\n",
      "  -0.16654642]\n",
      " [-0.23745961 -0.2902222  -0.34317127 ... -0.19755444 -0.26834658\n",
      "  -0.16654642]\n",
      " [ 1.0182042   1.1595278  -0.32559404 ... -0.19755444 -0.26834658\n",
      "  -0.16654642]\n",
      " [ 1.0121725   8.784968    2.8755798  ... -0.19755444 -0.26834658\n",
      "  -0.16654642]\n",
      " [-0.22080716 -0.26199827 -0.33897007 ... -0.19755444 -0.26834658\n",
      "  -0.16654642]]\n"
     ]
    }
   ],
   "source": [
    "print(X_train[:5])"
   ]
  },
  {
   "cell_type": "code",
   "execution_count": null,
   "metadata": {},
   "outputs": [],
   "source": []
  },
  {
   "cell_type": "code",
   "execution_count": 32,
   "metadata": {},
   "outputs": [],
   "source": [
    "# Scale the data\n",
    "import sklearn.preprocessing\n",
    "\n",
    "scaler = sklearn.preprocessing.StandardScaler()\n",
    "X_train = scaler.fit_transform(X_train)"
   ]
  },
  {
   "cell_type": "code",
   "execution_count": 33,
   "metadata": {},
   "outputs": [
    {
     "name": "stderr",
     "output_type": "stream",
     "text": [
      "c:\\Users\\lucvo\\AppData\\Local\\Programs\\Python\\Python311\\Lib\\site-packages\\keras\\src\\layers\\core\\dense.py:86: UserWarning: Do not pass an `input_shape`/`input_dim` argument to a layer. When using Sequential models, prefer using an `Input(shape)` object as the first layer in the model instead.\n",
      "  super().__init__(activity_regularizer=activity_regularizer, **kwargs)\n"
     ]
    }
   ],
   "source": [
    "# Train a tensorflow neural network to classify the instruments\n",
    "import tensorflow as tf\n",
    "from tensorflow.keras import layers\n",
    "\n",
    "model = tf.keras.Sequential([\n",
    "    layers.Dense(128, activation='relu', input_shape=(X_train.shape[1],)),\n",
    "    layers.Dense(64, activation='relu'),\n",
    "    layers.Dense(3, activation='softmax')\n",
    "])\n",
    "\n",
    "model.compile(optimizer='adam',\n",
    "                loss='sparse_categorical_crossentropy',\n",
    "                metrics=['accuracy'])"
   ]
  },
  {
   "cell_type": "code",
   "execution_count": 35,
   "metadata": {},
   "outputs": [
    {
     "name": "stdout",
     "output_type": "stream",
     "text": [
      "Epoch 1/50\n",
      "\u001b[1m32/32\u001b[0m \u001b[32m━━━━━━━━━━━━━━━━━━━━\u001b[0m\u001b[37m\u001b[0m \u001b[1m2s\u001b[0m 70ms/step - accuracy: 0.8808 - loss: 0.2766\n",
      "Epoch 2/50\n",
      "\u001b[1m32/32\u001b[0m \u001b[32m━━━━━━━━━━━━━━━━━━━━\u001b[0m\u001b[37m\u001b[0m \u001b[1m2s\u001b[0m 67ms/step - accuracy: 0.8833 - loss: 0.2434\n",
      "Epoch 3/50\n",
      "\u001b[1m32/32\u001b[0m \u001b[32m━━━━━━━━━━━━━━━━━━━━\u001b[0m\u001b[37m\u001b[0m \u001b[1m2s\u001b[0m 66ms/step - accuracy: 0.9213 - loss: 0.1823\n",
      "Epoch 4/50\n",
      "\u001b[1m32/32\u001b[0m \u001b[32m━━━━━━━━━━━━━━━━━━━━\u001b[0m\u001b[37m\u001b[0m \u001b[1m2s\u001b[0m 66ms/step - accuracy: 0.9254 - loss: 0.1905\n",
      "Epoch 5/50\n",
      "\u001b[1m32/32\u001b[0m \u001b[32m━━━━━━━━━━━━━━━━━━━━\u001b[0m\u001b[37m\u001b[0m \u001b[1m2s\u001b[0m 68ms/step - accuracy: 0.9261 - loss: 0.1846\n",
      "Epoch 6/50\n",
      "\u001b[1m32/32\u001b[0m \u001b[32m━━━━━━━━━━━━━━━━━━━━\u001b[0m\u001b[37m\u001b[0m \u001b[1m2s\u001b[0m 68ms/step - accuracy: 0.9425 - loss: 0.1418\n",
      "Epoch 7/50\n",
      "\u001b[1m32/32\u001b[0m \u001b[32m━━━━━━━━━━━━━━━━━━━━\u001b[0m\u001b[37m\u001b[0m \u001b[1m2s\u001b[0m 67ms/step - accuracy: 0.9072 - loss: 0.2240\n",
      "Epoch 8/50\n",
      "\u001b[1m32/32\u001b[0m \u001b[32m━━━━━━━━━━━━━━━━━━━━\u001b[0m\u001b[37m\u001b[0m \u001b[1m2s\u001b[0m 70ms/step - accuracy: 0.9293 - loss: 0.1531\n",
      "Epoch 9/50\n",
      "\u001b[1m32/32\u001b[0m \u001b[32m━━━━━━━━━━━━━━━━━━━━\u001b[0m\u001b[37m\u001b[0m \u001b[1m2s\u001b[0m 70ms/step - accuracy: 0.9363 - loss: 0.1307\n",
      "Epoch 10/50\n",
      "\u001b[1m32/32\u001b[0m \u001b[32m━━━━━━━━━━━━━━━━━━━━\u001b[0m\u001b[37m\u001b[0m \u001b[1m2s\u001b[0m 70ms/step - accuracy: 0.9569 - loss: 0.1104\n",
      "Epoch 11/50\n",
      "\u001b[1m32/32\u001b[0m \u001b[32m━━━━━━━━━━━━━━━━━━━━\u001b[0m\u001b[37m\u001b[0m \u001b[1m2s\u001b[0m 68ms/step - accuracy: 0.9395 - loss: 0.1303\n",
      "Epoch 12/50\n",
      "\u001b[1m32/32\u001b[0m \u001b[32m━━━━━━━━━━━━━━━━━━━━\u001b[0m\u001b[37m\u001b[0m \u001b[1m2s\u001b[0m 66ms/step - accuracy: 0.9532 - loss: 0.1108\n",
      "Epoch 13/50\n",
      "\u001b[1m32/32\u001b[0m \u001b[32m━━━━━━━━━━━━━━━━━━━━\u001b[0m\u001b[37m\u001b[0m \u001b[1m2s\u001b[0m 66ms/step - accuracy: 0.9647 - loss: 0.1053\n",
      "Epoch 14/50\n",
      "\u001b[1m32/32\u001b[0m \u001b[32m━━━━━━━━━━━━━━━━━━━━\u001b[0m\u001b[37m\u001b[0m \u001b[1m2s\u001b[0m 66ms/step - accuracy: 0.9491 - loss: 0.1083\n",
      "Epoch 15/50\n",
      "\u001b[1m32/32\u001b[0m \u001b[32m━━━━━━━━━━━━━━━━━━━━\u001b[0m\u001b[37m\u001b[0m \u001b[1m2s\u001b[0m 66ms/step - accuracy: 0.9279 - loss: 0.1600\n",
      "Epoch 16/50\n",
      "\u001b[1m32/32\u001b[0m \u001b[32m━━━━━━━━━━━━━━━━━━━━\u001b[0m\u001b[37m\u001b[0m \u001b[1m2s\u001b[0m 66ms/step - accuracy: 0.9111 - loss: 0.2031\n",
      "Epoch 17/50\n",
      "\u001b[1m32/32\u001b[0m \u001b[32m━━━━━━━━━━━━━━━━━━━━\u001b[0m\u001b[37m\u001b[0m \u001b[1m2s\u001b[0m 67ms/step - accuracy: 0.9238 - loss: 0.1603\n",
      "Epoch 18/50\n",
      "\u001b[1m32/32\u001b[0m \u001b[32m━━━━━━━━━━━━━━━━━━━━\u001b[0m\u001b[37m\u001b[0m \u001b[1m2s\u001b[0m 68ms/step - accuracy: 0.9351 - loss: 0.1350\n",
      "Epoch 19/50\n",
      "\u001b[1m32/32\u001b[0m \u001b[32m━━━━━━━━━━━━━━━━━━━━\u001b[0m\u001b[37m\u001b[0m \u001b[1m2s\u001b[0m 67ms/step - accuracy: 0.9468 - loss: 0.1337\n",
      "Epoch 20/50\n",
      "\u001b[1m32/32\u001b[0m \u001b[32m━━━━━━━━━━━━━━━━━━━━\u001b[0m\u001b[37m\u001b[0m \u001b[1m2s\u001b[0m 65ms/step - accuracy: 0.9508 - loss: 0.5984\n",
      "Epoch 21/50\n",
      "\u001b[1m32/32\u001b[0m \u001b[32m━━━━━━━━━━━━━━━━━━━━\u001b[0m\u001b[37m\u001b[0m \u001b[1m2s\u001b[0m 67ms/step - accuracy: 0.9244 - loss: 0.2994\n",
      "Epoch 22/50\n",
      "\u001b[1m32/32\u001b[0m \u001b[32m━━━━━━━━━━━━━━━━━━━━\u001b[0m\u001b[37m\u001b[0m \u001b[1m2s\u001b[0m 65ms/step - accuracy: 0.9458 - loss: 0.1301\n",
      "Epoch 23/50\n",
      "\u001b[1m32/32\u001b[0m \u001b[32m━━━━━━━━━━━━━━━━━━━━\u001b[0m\u001b[37m\u001b[0m \u001b[1m2s\u001b[0m 66ms/step - accuracy: 0.9373 - loss: 0.1474\n",
      "Epoch 24/50\n",
      "\u001b[1m32/32\u001b[0m \u001b[32m━━━━━━━━━━━━━━━━━━━━\u001b[0m\u001b[37m\u001b[0m \u001b[1m2s\u001b[0m 67ms/step - accuracy: 0.9539 - loss: 0.1374\n",
      "Epoch 25/50\n",
      "\u001b[1m32/32\u001b[0m \u001b[32m━━━━━━━━━━━━━━━━━━━━\u001b[0m\u001b[37m\u001b[0m \u001b[1m2s\u001b[0m 65ms/step - accuracy: 0.9465 - loss: 0.1460\n",
      "Epoch 26/50\n",
      "\u001b[1m32/32\u001b[0m \u001b[32m━━━━━━━━━━━━━━━━━━━━\u001b[0m\u001b[37m\u001b[0m \u001b[1m2s\u001b[0m 70ms/step - accuracy: 0.9480 - loss: 0.1329\n",
      "Epoch 27/50\n",
      "\u001b[1m32/32\u001b[0m \u001b[32m━━━━━━━━━━━━━━━━━━━━\u001b[0m\u001b[37m\u001b[0m \u001b[1m2s\u001b[0m 66ms/step - accuracy: 0.9653 - loss: 0.0982\n",
      "Epoch 28/50\n",
      "\u001b[1m32/32\u001b[0m \u001b[32m━━━━━━━━━━━━━━━━━━━━\u001b[0m\u001b[37m\u001b[0m \u001b[1m2s\u001b[0m 67ms/step - accuracy: 0.9626 - loss: 0.0885\n",
      "Epoch 29/50\n",
      "\u001b[1m32/32\u001b[0m \u001b[32m━━━━━━━━━━━━━━━━━━━━\u001b[0m\u001b[37m\u001b[0m \u001b[1m2s\u001b[0m 65ms/step - accuracy: 0.9585 - loss: 0.1189\n",
      "Epoch 30/50\n",
      "\u001b[1m32/32\u001b[0m \u001b[32m━━━━━━━━━━━━━━━━━━━━\u001b[0m\u001b[37m\u001b[0m \u001b[1m2s\u001b[0m 66ms/step - accuracy: 0.9614 - loss: 0.1004\n",
      "Epoch 31/50\n",
      "\u001b[1m32/32\u001b[0m \u001b[32m━━━━━━━━━━━━━━━━━━━━\u001b[0m\u001b[37m\u001b[0m \u001b[1m2s\u001b[0m 66ms/step - accuracy: 0.9595 - loss: 0.1047\n",
      "Epoch 32/50\n",
      "\u001b[1m32/32\u001b[0m \u001b[32m━━━━━━━━━━━━━━━━━━━━\u001b[0m\u001b[37m\u001b[0m \u001b[1m2s\u001b[0m 69ms/step - accuracy: 0.9540 - loss: 0.1140\n",
      "Epoch 33/50\n",
      "\u001b[1m32/32\u001b[0m \u001b[32m━━━━━━━━━━━━━━━━━━━━\u001b[0m\u001b[37m\u001b[0m \u001b[1m2s\u001b[0m 66ms/step - accuracy: 0.9674 - loss: 0.0740\n",
      "Epoch 34/50\n",
      "\u001b[1m32/32\u001b[0m \u001b[32m━━━━━━━━━━━━━━━━━━━━\u001b[0m\u001b[37m\u001b[0m \u001b[1m2s\u001b[0m 65ms/step - accuracy: 0.9648 - loss: 0.0882\n",
      "Epoch 35/50\n",
      "\u001b[1m32/32\u001b[0m \u001b[32m━━━━━━━━━━━━━━━━━━━━\u001b[0m\u001b[37m\u001b[0m \u001b[1m2s\u001b[0m 67ms/step - accuracy: 0.9566 - loss: 0.1039\n",
      "Epoch 36/50\n",
      "\u001b[1m32/32\u001b[0m \u001b[32m━━━━━━━━━━━━━━━━━━━━\u001b[0m\u001b[37m\u001b[0m \u001b[1m2s\u001b[0m 66ms/step - accuracy: 0.9728 - loss: 0.0932\n",
      "Epoch 37/50\n",
      "\u001b[1m32/32\u001b[0m \u001b[32m━━━━━━━━━━━━━━━━━━━━\u001b[0m\u001b[37m\u001b[0m \u001b[1m2s\u001b[0m 67ms/step - accuracy: 0.9634 - loss: 0.0864\n",
      "Epoch 38/50\n",
      "\u001b[1m32/32\u001b[0m \u001b[32m━━━━━━━━━━━━━━━━━━━━\u001b[0m\u001b[37m\u001b[0m \u001b[1m2s\u001b[0m 66ms/step - accuracy: 0.9729 - loss: 0.0771\n",
      "Epoch 39/50\n",
      "\u001b[1m32/32\u001b[0m \u001b[32m━━━━━━━━━━━━━━━━━━━━\u001b[0m\u001b[37m\u001b[0m \u001b[1m2s\u001b[0m 69ms/step - accuracy: 0.9777 - loss: 0.0664\n",
      "Epoch 40/50\n",
      "\u001b[1m32/32\u001b[0m \u001b[32m━━━━━━━━━━━━━━━━━━━━\u001b[0m\u001b[37m\u001b[0m \u001b[1m2s\u001b[0m 66ms/step - accuracy: 0.9722 - loss: 0.0645\n",
      "Epoch 41/50\n",
      "\u001b[1m32/32\u001b[0m \u001b[32m━━━━━━━━━━━━━━━━━━━━\u001b[0m\u001b[37m\u001b[0m \u001b[1m2s\u001b[0m 66ms/step - accuracy: 0.9469 - loss: 0.1066\n",
      "Epoch 42/50\n",
      "\u001b[1m32/32\u001b[0m \u001b[32m━━━━━━━━━━━━━━━━━━━━\u001b[0m\u001b[37m\u001b[0m \u001b[1m2s\u001b[0m 67ms/step - accuracy: 0.9724 - loss: 0.0654\n",
      "Epoch 43/50\n",
      "\u001b[1m32/32\u001b[0m \u001b[32m━━━━━━━━━━━━━━━━━━━━\u001b[0m\u001b[37m\u001b[0m \u001b[1m2s\u001b[0m 68ms/step - accuracy: 0.9667 - loss: 0.0855\n",
      "Epoch 44/50\n",
      "\u001b[1m32/32\u001b[0m \u001b[32m━━━━━━━━━━━━━━━━━━━━\u001b[0m\u001b[37m\u001b[0m \u001b[1m2s\u001b[0m 67ms/step - accuracy: 0.9567 - loss: 0.1018\n",
      "Epoch 45/50\n",
      "\u001b[1m32/32\u001b[0m \u001b[32m━━━━━━━━━━━━━━━━━━━━\u001b[0m\u001b[37m\u001b[0m \u001b[1m2s\u001b[0m 66ms/step - accuracy: 0.9754 - loss: 0.0747\n",
      "Epoch 46/50\n",
      "\u001b[1m32/32\u001b[0m \u001b[32m━━━━━━━━━━━━━━━━━━━━\u001b[0m\u001b[37m\u001b[0m \u001b[1m2s\u001b[0m 69ms/step - accuracy: 0.9725 - loss: 0.0737\n",
      "Epoch 47/50\n",
      "\u001b[1m32/32\u001b[0m \u001b[32m━━━━━━━━━━━━━━━━━━━━\u001b[0m\u001b[37m\u001b[0m \u001b[1m2s\u001b[0m 67ms/step - accuracy: 0.9616 - loss: 0.1087\n",
      "Epoch 48/50\n",
      "\u001b[1m32/32\u001b[0m \u001b[32m━━━━━━━━━━━━━━━━━━━━\u001b[0m\u001b[37m\u001b[0m \u001b[1m2s\u001b[0m 67ms/step - accuracy: 0.9450 - loss: 0.1307\n",
      "Epoch 49/50\n",
      "\u001b[1m32/32\u001b[0m \u001b[32m━━━━━━━━━━━━━━━━━━━━\u001b[0m\u001b[37m\u001b[0m \u001b[1m2s\u001b[0m 66ms/step - accuracy: 0.9705 - loss: 0.0808\n",
      "Epoch 50/50\n",
      "\u001b[1m32/32\u001b[0m \u001b[32m━━━━━━━━━━━━━━━━━━━━\u001b[0m\u001b[37m\u001b[0m \u001b[1m2s\u001b[0m 66ms/step - accuracy: 0.9714 - loss: 0.0658\n"
     ]
    },
    {
     "data": {
      "text/plain": [
       "<keras.src.callbacks.history.History at 0x1d12bd74b10>"
      ]
     },
     "execution_count": 35,
     "metadata": {},
     "output_type": "execute_result"
    }
   ],
   "source": [
    "# Fit the model\n",
    "model.fit(X_train, y_train, epochs=50)\n"
   ]
  },
  {
   "cell_type": "code",
   "execution_count": 36,
   "metadata": {},
   "outputs": [
    {
     "name": "stdout",
     "output_type": "stream",
     "text": [
      "\u001b[1m4/4\u001b[0m \u001b[32m━━━━━━━━━━━━━━━━━━━━\u001b[0m\u001b[37m\u001b[0m \u001b[1m0s\u001b[0m 5ms/step - accuracy: 0.6939 - loss: 1.5660  \n",
      "Test accuracy: 0.6800000071525574\n"
     ]
    }
   ],
   "source": [
    "# Generate a test set\n",
    "X_test, y_test, _ = create_single_inst_classification_set(N_samples=100, classes=['keyboard','bass','flute'], path=path)\n",
    "\n",
    "# Scale the test data\n",
    "X_test = scaler.transform(X_test)\n",
    "\n",
    "# Evaluate the model\n",
    "test_loss, test_acc = model.evaluate(X_test, y_test)\n",
    "\n",
    "print('Test accuracy:', test_acc)"
   ]
  },
  {
   "cell_type": "code",
   "execution_count": 45,
   "metadata": {},
   "outputs": [
    {
     "name": "stdout",
     "output_type": "stream",
     "text": [
      "\u001b[1m4/4\u001b[0m \u001b[32m━━━━━━━━━━━━━━━━━━━━\u001b[0m\u001b[37m\u001b[0m \u001b[1m0s\u001b[0m 4ms/step \n",
      "[1 1 1 2 0 0 2 0 1 0 0 0 1 1 0 2 0 1 2 1 2 0 1 2 1 2 1 1 1 0 1 1 2 1 2 0 2\n",
      " 0 1 0 1 0 1 0 1 2 1 2 1 1 0 0 1 2 2 1 2 1 0 1 1 1 1 0 2 0 2 1 2 1 1 1 0 2\n",
      " 1 1 1 1 1 0 1 1 2 0 1 0 2 1 0 1 0 1 0 1 0 1 0 1 1 0]\n",
      "\n",
      "[1 0 0 2 0 1 2 0 0 0 0 0 0 0 0 2 1 1 2 1 2 0 1 2 1 2 0 1 0 0 1 1 2 2 2 0 2\n",
      " 0 1 0 1 1 1 0 1 2 0 2 0 0 1 0 1 2 2 0 2 0 0 1 1 0 0 0 2 0 2 1 2 1 1 1 1 2\n",
      " 1 1 0 1 1 1 1 2 2 1 1 1 2 0 1 0 0 1 0 0 0 0 0 0 0 0]\n",
      "\n",
      "[[21 21  0]\n",
      " [ 9 26  0]\n",
      " [ 0  2 21]]\n",
      "Accuracy: 0.68\n"
     ]
    }
   ],
   "source": [
    "# Create a prediction array for the test set\n",
    "y_pred = model.predict(X_test)\n",
    "\n",
    "# Convert the prediction array to a class label\n",
    "y_pred_labels = np.argmax(y_pred, axis=1)\n",
    "\n",
    "print(y_pred_labels)\n",
    "print()\n",
    "print(y_test)\n",
    "\n",
    "# Print the confusion matrix\n",
    "from sklearn.metrics import confusion_matrix\n",
    "\n",
    "conf_matrix = confusion_matrix(y_test, y_pred_labels)\n",
    "print()\n",
    "print(conf_matrix)\n",
    "\n",
    "accuracy = np.trace(conf_matrix) / np.sum(conf_matrix)\n",
    "print('Accuracy:', accuracy)\n"
   ]
  },
  {
   "cell_type": "markdown",
   "metadata": {},
   "source": [
    "### Use a XGBoost decision tree"
   ]
  },
  {
   "cell_type": "code",
   "execution_count": 57,
   "metadata": {},
   "outputs": [],
   "source": [
    "# Define the test set\n",
    "X_val, y_val, _ = create_single_inst_classification_set(N_samples=100, classes=['keyboard','bass','flute','guitar'], path=path)\n"
   ]
  },
  {
   "cell_type": "code",
   "execution_count": 58,
   "metadata": {},
   "outputs": [
    {
     "name": "stderr",
     "output_type": "stream",
     "text": [
      "c:\\Users\\lucvo\\AppData\\Local\\Programs\\Python\\Python311\\Lib\\site-packages\\xgboost\\sklearn.py:889: UserWarning: `eval_metric` in `fit` method is deprecated for better compatibility with scikit-learn, use `eval_metric` in constructor or`set_params` instead.\n",
      "  warnings.warn(\n",
      "c:\\Users\\lucvo\\AppData\\Local\\Programs\\Python\\Python311\\Lib\\site-packages\\xgboost\\sklearn.py:889: UserWarning: `early_stopping_rounds` in `fit` method is deprecated for better compatibility with scikit-learn, use `early_stopping_rounds` in constructor or`set_params` instead.\n",
      "  warnings.warn(\n"
     ]
    },
    {
     "name": "stdout",
     "output_type": "stream",
     "text": [
      "[0]\tvalidation_0-merror:0.20700\tvalidation_1-merror:0.40000\n",
      "[1]\tvalidation_0-merror:0.18200\tvalidation_1-merror:0.37000\n",
      "[2]\tvalidation_0-merror:0.17600\tvalidation_1-merror:0.39000\n",
      "[3]\tvalidation_0-merror:0.16800\tvalidation_1-merror:0.36000\n",
      "[4]\tvalidation_0-merror:0.15800\tvalidation_1-merror:0.37000\n",
      "[5]\tvalidation_0-merror:0.14900\tvalidation_1-merror:0.37000\n",
      "[6]\tvalidation_0-merror:0.14800\tvalidation_1-merror:0.37000\n",
      "[7]\tvalidation_0-merror:0.14600\tvalidation_1-merror:0.36000\n",
      "[8]\tvalidation_0-merror:0.14300\tvalidation_1-merror:0.37000\n",
      "[9]\tvalidation_0-merror:0.14100\tvalidation_1-merror:0.36000\n",
      "[10]\tvalidation_0-merror:0.13700\tvalidation_1-merror:0.37000\n",
      "[11]\tvalidation_0-merror:0.13700\tvalidation_1-merror:0.38000\n",
      "[12]\tvalidation_0-merror:0.12800\tvalidation_1-merror:0.34000\n",
      "[13]\tvalidation_0-merror:0.11800\tvalidation_1-merror:0.35000\n",
      "[14]\tvalidation_0-merror:0.11100\tvalidation_1-merror:0.37000\n",
      "[15]\tvalidation_0-merror:0.10500\tvalidation_1-merror:0.35000\n",
      "[16]\tvalidation_0-merror:0.09600\tvalidation_1-merror:0.35000\n",
      "[17]\tvalidation_0-merror:0.09000\tvalidation_1-merror:0.34000\n",
      "[18]\tvalidation_0-merror:0.08800\tvalidation_1-merror:0.35000\n",
      "[19]\tvalidation_0-merror:0.08100\tvalidation_1-merror:0.35000\n",
      "[20]\tvalidation_0-merror:0.07700\tvalidation_1-merror:0.33000\n",
      "[21]\tvalidation_0-merror:0.07400\tvalidation_1-merror:0.35000\n",
      "[22]\tvalidation_0-merror:0.06800\tvalidation_1-merror:0.35000\n",
      "[23]\tvalidation_0-merror:0.06700\tvalidation_1-merror:0.35000\n",
      "[24]\tvalidation_0-merror:0.06400\tvalidation_1-merror:0.36000\n",
      "[25]\tvalidation_0-merror:0.05900\tvalidation_1-merror:0.33000\n",
      "[26]\tvalidation_0-merror:0.05500\tvalidation_1-merror:0.32000\n",
      "[27]\tvalidation_0-merror:0.04900\tvalidation_1-merror:0.31000\n",
      "[28]\tvalidation_0-merror:0.04800\tvalidation_1-merror:0.30000\n",
      "[29]\tvalidation_0-merror:0.04600\tvalidation_1-merror:0.30000\n",
      "[30]\tvalidation_0-merror:0.04600\tvalidation_1-merror:0.30000\n",
      "[31]\tvalidation_0-merror:0.03500\tvalidation_1-merror:0.31000\n",
      "[32]\tvalidation_0-merror:0.03300\tvalidation_1-merror:0.31000\n",
      "[33]\tvalidation_0-merror:0.03200\tvalidation_1-merror:0.31000\n",
      "[34]\tvalidation_0-merror:0.02700\tvalidation_1-merror:0.31000\n",
      "[35]\tvalidation_0-merror:0.02700\tvalidation_1-merror:0.31000\n",
      "[36]\tvalidation_0-merror:0.02600\tvalidation_1-merror:0.32000\n",
      "[37]\tvalidation_0-merror:0.02400\tvalidation_1-merror:0.32000\n",
      "[38]\tvalidation_0-merror:0.02300\tvalidation_1-merror:0.31000\n",
      "Accuracy: 0.7\n"
     ]
    },
    {
     "data": {
      "image/png": "[encoded data removed]",
      "text/plain": [
       "<Figure size 640x480 with 2 Axes>"
      ]
     },
     "metadata": {},
     "output_type": "display_data"
    }
   ],
   "source": [
    "# Use an XGBoost classifier\n",
    "import xgboost as xgb\n",
    "\n",
    "model = xgb.XGBClassifier(objective='multi:softmax', num_class=4, n_estimators=100, max_depth=3, learning_rate=0.1, n_jobs=-1)\n",
    "\n",
    "# Fit the model and store training accuracy as function of number of trees\n",
    "eval_set = [(X_train, y_train), (X_val, y_val)]\n",
    "model.fit(X_train, y_train, eval_metric='merror', eval_set=eval_set, early_stopping_rounds=10, verbose=True)\n",
    "\n",
    "# Predict the labels of the validation set\n",
    "y_pred = model.predict(X_val)\n",
    "\n",
    "# Print the accuracy\n",
    "accuracy = np.sum(y_pred == y_val) / len(y_val)\n",
    "print('Accuracy:', accuracy)\n",
    "\n",
    "# Plot the confusion matrix\n",
    "conf_matrix = confusion_matrix(y_val, y_pred)\n",
    "conf_normed = conf_matrix / np.sum(conf_matrix, axis=1)[:, np.newaxis]\n",
    "plt.imshow(conf_normed, cmap='Blues')\n",
    "plt.colorbar()\n",
    "plt.xlabel('Predicted')\n",
    "plt.ylabel('True')\n",
    "plt.xticks([0, 1, 2, 3], ['bass', 'flute', 'guitar', 'keyboard'])\n",
    "plt.yticks([0, 1, 2, 3], ['bass', 'flute', 'guitar', 'keyboard'])\n",
    "plt.title('Confusion matrix')\n",
    "plt.show()"
   ]
  },
  {
   "cell_type": "code",
   "execution_count": null,
   "metadata": {},
   "outputs": [],
   "source": []
  }
 ],
 "metadata": {
  "kernelspec": {
   "display_name": "Python 3",
   "language": "python",
   "name": "python3"
  },
  "language_info": {
   "codemirror_mode": {
    "name": "ipython",
    "version": 3
   },
   "file_extension": ".py",
   "mimetype": "text/x-python",
   "name": "python",
   "nbconvert_exporter": "python",
   "pygments_lexer": "ipython3",
   "version": "3.11.5"
  }
 },
 "nbformat": 4,
 "nbformat_minor": 2
}
