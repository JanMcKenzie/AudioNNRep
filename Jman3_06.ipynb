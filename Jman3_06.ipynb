{
 "cells": [
  {
   "cell_type": "code",
   "execution_count": 1,
   "metadata": {},
   "outputs": [],
   "source": [
    "import numpy as np\n",
    "import matplotlib.pyplot as plt\n",
    "import pandas as pd\n",
    "from scipy import fft\n",
    "import wave\n",
    "import sys\n",
    "import os\n",
    "\n",
    "import tensorflow as tf\n",
    "from tensorflow.keras import layers\n",
    "from tensorflow.keras import models\n",
    "from tensorflow.keras import optimizers\n",
    "from tensorflow.keras import losses\n",
    "from tensorflow.keras import metrics\n",
    "from tensorflow.keras import activations\n",
    "from tensorflow.keras import regularizers\n",
    "from tensorflow.keras import initializers\n",
    "from tensorflow.keras import callbacks\n",
    "from scipy.io.wavfile import write\n",
    "from sklearn.model_selection import train_test_split\n",
    "from sklearn.preprocessing import StandardScaler\n",
    "from scipy.io import wavfile\n",
    "import scipy.signal as signal\n",
    "\n",
    "import torch"
   ]
  },
  {
   "cell_type": "code",
   "execution_count": 2,
   "metadata": {},
   "outputs": [],
   "source": [
    "path = 'C:/Users/Admin/OneDrive/Skrivebord/Machine Learning/AppliedML2024-main/AppliedML2024/Assignments/Group Project/Shared code/audio/'\n",
    "\n",
    "sys.path.append(\"C:/Users/Admin/OneDrive/Skrivebord/Machine Learning/AppliedML2024-main/AppliedML2024/Assignments/Group Project/Shared code/AudioNNRep/functions\")\n",
    "import functions as f"
   ]
  },
  {
   "cell_type": "code",
   "execution_count": 29,
   "metadata": {},
   "outputs": [],
   "source": [
    "filenames = f.read_files_in_dir(path)\n",
    "organ = [filename for filename in filenames if \"organ\" in filename] \n",
    "bass = [filename for filename in filenames if \"bass\" in filename]\n",
    "guitar = [filename for filename in filenames if \"guitar\" in filename]\n",
    "vocal = [filename for filename in filenames if \"vocal\" in filename] \n",
    "flutes = [filename for filename in filenames if \"flute\" in filename]\n",
    "keyboards = [filename for filename in filenames if \"keyboard\" in filename] "
   ]
  },
  {
   "cell_type": "code",
   "execution_count": 6,
   "metadata": {},
   "outputs": [],
   "source": [
    "import random"
   ]
  },
  {
   "cell_type": "code",
   "execution_count": 49,
   "metadata": {},
   "outputs": [],
   "source": [
    "#using f.audio_to_waveform(path + instrument) and f.waveform_to_spectogram(waveform_test) generate mixed_spectogram of three of the instruments: pianos, bass, guitar, drum, flutes, keyboards\n",
    "\n",
    "def generate_mixed_spectrograms(n_mixed_spectrograms, number_of_instruments = 3):\n",
    "    instruments = [organ, bass, guitar, vocal, flutes, keyboards]\n",
    "    picked_inst_arr = np.zeros((n_mixed_spectrograms, len(instruments)))\n",
    "    for i in range(n_mixed_spectrograms):\n",
    "        # for each row, turn 3 random zeros to 1\n",
    "        picked_inst = random.sample(range(len(instruments)), number_of_instruments)\n",
    "        picked_inst_arr[i, picked_inst] = 1\n",
    "    \n",
    "    mixed_spectograms = []\n",
    "    indvidual_spectograms = []\n",
    "    for i in range(n_mixed_spectrograms):\n",
    "        selected_files = []\n",
    "        # Select files from the picked instruments\n",
    "        for j in range(len(instruments)):\n",
    "            if picked_inst_arr[i, j] == 1:\n",
    "                selected_files.append(random.choice(instruments[j]))\n",
    "\n",
    "        # Generate the mixed spectrogram, and save the individual spectrograms\n",
    "        spectogram_i = \n",
    "        for j in range(len(selected_files)):\n",
    "            waveform_test, sr = f.audio_to_waveform(path + selected_files[j])\n",
    "            spectogram = f.waveform_to_spectogram(waveform_test)\n",
    "            indvidual_spectograms[i, j] = spectogram\n",
    "            if j == 0:\n",
    "                combined_waveform = waveform_test\n",
    "            else:\n",
    "                combined_waveform = combined_waveform + waveform_test\n",
    "        \n",
    "\n",
    "        mixed_spectogram = f.waveform_to_spectogram(combined_waveform)\n",
    "        mixed_spectograms.append(mixed_spectogram)\n",
    "\n",
    "    return mixed_spectograms, indvidual_spectograms, picked_inst_arr"
   ]
  },
  {
   "cell_type": "code",
   "execution_count": null,
   "metadata": {},
   "outputs": [],
   "source": [
    "waveform_test, sr_test = f.audio_to_waveform(path + bass[random])\n",
    "sound_test = f.waveform_to_spectogram(waveform_test) "
   ]
  },
  {
   "cell_type": "code",
   "execution_count": null,
   "metadata": {},
   "outputs": [],
   "source": []
  },
  {
   "cell_type": "code",
   "execution_count": null,
   "metadata": {},
   "outputs": [],
   "source": [
    "#create a CNN model "
   ]
  },
  {
   "cell_type": "code",
   "execution_count": 51,
   "metadata": {},
   "outputs": [
    {
     "data": {
      "text/plain": [
       "(10, 1025, 126)"
      ]
     },
     "execution_count": 51,
     "metadata": {},
     "output_type": "execute_result"
    }
   ],
   "source": [
    "np.shape(specs)"
   ]
  },
  {
   "cell_type": "code",
   "execution_count": 50,
   "metadata": {},
   "outputs": [
    {
     "ename": "ValueError",
     "evalue": "setting an array element with a sequence.",
     "output_type": "error",
     "traceback": [
      "\u001b[1;31m---------------------------------------------------------------------------\u001b[0m",
      "\u001b[1;31mTypeError\u001b[0m                                 Traceback (most recent call last)",
      "\u001b[1;31mTypeError\u001b[0m: only length-1 arrays can be converted to Python scalars",
      "\nThe above exception was the direct cause of the following exception:\n",
      "\u001b[1;31mValueError\u001b[0m                                Traceback (most recent call last)",
      "Cell \u001b[1;32mIn[50], line 1\u001b[0m\n\u001b[1;32m----> 1\u001b[0m specs_combi,specs_indi, labels \u001b[38;5;241m=\u001b[39m \u001b[43mgenerate_mixed_spectrograms\u001b[49m\u001b[43m(\u001b[49m\u001b[38;5;241;43m10\u001b[39;49m\u001b[43m,\u001b[49m\u001b[43m \u001b[49m\u001b[38;5;241;43m3\u001b[39;49m\u001b[43m)\u001b[49m\n",
      "Cell \u001b[1;32mIn[49], line 25\u001b[0m, in \u001b[0;36mgenerate_mixed_spectrograms\u001b[1;34m(n_mixed_spectrograms, number_of_instruments)\u001b[0m\n\u001b[0;32m     23\u001b[0m waveform_test, sr \u001b[38;5;241m=\u001b[39m f\u001b[38;5;241m.\u001b[39maudio_to_waveform(path \u001b[38;5;241m+\u001b[39m selected_files[j])\n\u001b[0;32m     24\u001b[0m spectogram \u001b[38;5;241m=\u001b[39m f\u001b[38;5;241m.\u001b[39mwaveform_to_spectogram(waveform_test)\n\u001b[1;32m---> 25\u001b[0m \u001b[43mindvidual_spectograms\u001b[49m\u001b[43m[\u001b[49m\u001b[43mi\u001b[49m\u001b[43m,\u001b[49m\u001b[43m \u001b[49m\u001b[43mj\u001b[49m\u001b[43m]\u001b[49m \u001b[38;5;241m=\u001b[39m spectogram\n\u001b[0;32m     26\u001b[0m \u001b[38;5;28;01mif\u001b[39;00m j \u001b[38;5;241m==\u001b[39m \u001b[38;5;241m0\u001b[39m:\n\u001b[0;32m     27\u001b[0m     combined_waveform \u001b[38;5;241m=\u001b[39m waveform_test\n",
      "\u001b[1;31mValueError\u001b[0m: setting an array element with a sequence."
     ]
    }
   ],
   "source": [
    "specs_combi,specs_indi, labels = generate_mixed_spectrograms(10, 3)"
   ]
  },
  {
   "cell_type": "code",
   "execution_count": 34,
   "metadata": {},
   "outputs": [
    {
     "data": {
      "text/plain": [
       "(array([[1.3435781e+00, 1.4351940e+00, 1.4049128e+00, ..., 0.0000000e+00,\n",
       "         0.0000000e+00, 0.0000000e+00],\n",
       "        [4.7466249e+00, 4.7344809e+00, 2.2277896e+00, ..., 0.0000000e+00,\n",
       "         0.0000000e+00, 0.0000000e+00],\n",
       "        [1.1809511e+01, 1.0866273e+01, 2.6245835e+00, ..., 0.0000000e+00,\n",
       "         0.0000000e+00, 0.0000000e+00],\n",
       "        ...,\n",
       "        [3.8819443e-04, 5.3095451e-04, 2.9771318e-04, ..., 0.0000000e+00,\n",
       "         0.0000000e+00, 0.0000000e+00],\n",
       "        [2.8176355e-04, 5.6110288e-04, 3.7677959e-04, ..., 0.0000000e+00,\n",
       "         0.0000000e+00, 0.0000000e+00],\n",
       "        [2.6089448e-04, 5.1411072e-04, 1.4023193e-04, ..., 0.0000000e+00,\n",
       "         0.0000000e+00, 0.0000000e+00]], dtype=float32),\n",
       " array([1., 1., 0., 1., 0., 0.]))"
      ]
     },
     "execution_count": 34,
     "metadata": {},
     "output_type": "execute_result"
    }
   ],
   "source": [
    "specs[1], labels[3]"
   ]
  },
  {
   "cell_type": "code",
   "execution_count": null,
   "metadata": {},
   "outputs": [],
   "source": []
  }
 ],
 "metadata": {
  "kernelspec": {
   "display_name": "Python 3",
   "language": "python",
   "name": "python3"
  },
  "language_info": {
   "codemirror_mode": {
    "name": "ipython",
    "version": 3
   },
   "file_extension": ".py",
   "mimetype": "text/x-python",
   "name": "python",
   "nbconvert_exporter": "python",
   "pygments_lexer": "ipython3",
   "version": "3.12.0"
  }
 },
 "nbformat": 4,
 "nbformat_minor": 2
}
