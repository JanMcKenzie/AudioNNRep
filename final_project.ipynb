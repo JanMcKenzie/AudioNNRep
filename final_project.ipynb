{
 "cells": [
  {
   "cell_type": "code",
   "execution_count": 1,
   "metadata": {},
   "outputs": [],
   "source": [
    "import numpy as np\n",
    "import matplotlib.pyplot as plt\n",
    "import pandas as pd\n",
    "from scipy import fft\n",
    "import wave\n",
    "import sys\n",
    "import os\n",
    "\n",
    "import tensorflow as tf\n",
    "from tensorflow.keras import layers\n",
    "from tensorflow.keras import models\n",
    "from tensorflow.keras import optimizers\n",
    "from tensorflow.keras import losses\n",
    "from tensorflow.keras import metrics\n",
    "from tensorflow.keras import activations\n",
    "from tensorflow.keras import regularizers\n",
    "from tensorflow.keras import initializers\n",
    "from tensorflow.keras import callbacks\n",
    "from scipy.io.wavfile import write\n",
    "from sklearn.model_selection import train_test_split\n",
    "from sklearn.preprocessing import StandardScaler\n",
    "from scipy.io import wavfile\n",
    "import scipy.signal as signal\n"
   ]
  },
  {
   "cell_type": "code",
   "execution_count": null,
   "metadata": {},
   "outputs": [],
   "source": []
  },
  {
   "cell_type": "code",
   "execution_count": 2,
   "metadata": {},
   "outputs": [],
   "source": [
    "path = 'C:/Users/User/Desktop/AppStat/MachineLearning/AppliedML2024/final_project/data/nsynth-test/audio/'"
   ]
  },
  {
   "cell_type": "code",
   "execution_count": 3,
   "metadata": {},
   "outputs": [],
   "source": [
    "def read_wav_file(filename):\n",
    "    with wave.open(filename, 'rb') as wf:\n",
    "        params = wf.getparams()\n",
    "        num_channels, sampwidth, framerate, num_frames = params[:4]\n",
    "        frames = wf.readframes(num_frames)\n",
    "        waveform = np.frombuffer(frames, dtype=np.int16)\n",
    "    return waveform, params\n",
    "\n",
    "def read_wav_file_scipy(filename):\n",
    "    framerate, waveform = wavfile.read(filename)\n",
    "    return waveform, framerate\n",
    "\n",
    "def plot_waveform(waveform, framerate):\n",
    "    # Create a time array in seconds\n",
    "    time_array = np.arange(0, len(waveform)) / framerate\n",
    "    plt.figure(figsize=(15, 5))\n",
    "    plt.plot(time_array, waveform, label=\"Waveform\")\n",
    "    plt.xlabel('Time (s)')\n",
    "    plt.ylabel('Amplitude')\n",
    "    plt.title('Waveform')\n",
    "    plt.legend()\n",
    "    plt.show()\n",
    "\n",
    "def read_files_in_dir(directory):\n",
    "    filenames = os.listdir(directory)\n",
    "    return filenames\n",
    "\n",
    "\n",
    "def pick_5_samples(arrays):\n",
    "    instruments = []\n",
    "    for array in arrays:\n",
    "        pick = np.random.choice(array, 1)\n",
    "        instruments.append(pick)\n",
    "    return instruments\n",
    "\n",
    "def pick_samples_and_classify(arrays):\n",
    "    #Picks a random number of samples, and returns their filepath and label\n",
    "    instruments = []\n",
    "    #pick at minimum two instruments\n",
    "    number_of_instruments = np.random.randint(2, len(arrays) + 1)\n",
    "    labels = np.zeros(len(arrays))\n",
    "    already_picked = []\n",
    "\n",
    "    while len(instruments) < number_of_instruments:\n",
    "        random_pick = np.random.randint(0, len(arrays))\n",
    "        if random_pick in already_picked:\n",
    "            break\n",
    "        else:\n",
    "            already_picked.append(random_pick)\n",
    "            pick = np.random.choice(arrays[random_pick], 1)\n",
    "            instruments.append(pick)\n",
    "            labels[random_pick] = 1\n",
    "\n",
    "    return instruments, labels\n",
    "#read the filenames, and add their data to 5 lists\n",
    "def add_waveform_to_list(filenames):\n",
    "    waveforms = []\n",
    "    for filename in filenames:\n",
    "        waveform, params = read_wav_file_scipy(path + filename[0])\n",
    "        waveforms.append(waveform)\n",
    "    return waveforms\n",
    "        \n",
    "#Fast fourier transform\n",
    "def fft_h(data, sample_rate):\n",
    "    n = len(data)\n",
    "    fft_data = np.fft.fft(data)\n",
    "    freq = np.fft.fftfreq(n, d=1/sample_rate)\n",
    "    return freq[:n//2], np.abs(fft_data[:n//2])\n",
    "\n",
    "def normalize_waveform(waveform):\n",
    "    return waveform\n",
    "\n",
    "def combine_waveforms(waveforms):\n",
    "\n",
    "    normalization =  1 / len(waveforms)\n",
    "    out = np.zeros_like(waveforms[0], dtype=np.float32)\n",
    "    for w in waveforms:\n",
    "        out += w.astype(np.float32) * normalization\n",
    "    return out # note, this retuns a float32 array - it is needed to convert this to int16 before saving it to a wav file\n",
    "def waveform_to_wavfile(waveform, name_string, sample_rate = 16000):\n",
    "    write(name_string, sample_rate, waveform.astype(np.int16))\n",
    "\n",
    "def gen_combo_waveform():\n",
    "    paths, label = pick_samples_and_classify([bass, guitar, flutes, keyboards])\n",
    "    waveforms = add_waveform_to_list(paths)\n",
    "    return combine_waveforms(waveforms), label, paths\n",
    "\n",
    "def gen_data_set(N):\n",
    "    data = []\n",
    "    labels = []\n",
    "    #paths = []\n",
    "    for i in range(N):\n",
    "        waveform, label, paths_f = gen_combo_waveform()\n",
    "        f,t,zxx = signal.spectrogram(waveform)\n",
    "      # _,_ ,zxx_path = signal.spectrogram(paths_f)\n",
    "        data.append(zxx)\n",
    "        labels.append(label)\n",
    "        #f,t,zxx = signal.stft(waveform, fs=16000, nperseg=256)\n",
    "    return data, labels\n",
    "\n",
    "def gen_spectrogram_set_spectroy(N):\n",
    "    data = []\n",
    "    labels = []\n",
    "    for i in range(N):\n",
    "        paths, label = pick_samples_and_classify([bass, guitar, flutes, keyboards])\n",
    "        waveforms = add_waveform_to_list(paths)\n",
    "        freq, ts, spectro_data = signal.spectrogram(combine_waveforms(waveforms))\n",
    "\n",
    "        inter_waveforms = []\n",
    "\n",
    "        for waveform in waveforms:\n",
    "            freq, ts, spectro = signal.spectrogram(waveform)\n",
    "            inter_waveforms.append(spectro)\n",
    "        \n",
    "        data.append(spectro_data)\n",
    "        labels.append(inter_waveforms)\n",
    "    \n",
    "    return data, labels\n",
    "#Sorting the files in directory\n",
    "\n",
    "\n",
    "filenames = read_files_in_dir(path)\n",
    "#pianos = [filename for filename in filenames if \"piano\" in filename] #empty\n",
    "bass = [filename for filename in filenames if \"bass\" in filename]\n",
    "guitar = [filename for filename in filenames if \"guitar\" in filename]\n",
    "#drum = [filename for filename in filenames if \"drum\" in filename] #empty\n",
    "flutes = [filename for filename in filenames if \"flute\" in filename]\n",
    "keyboards = [filename for filename in filenames if \"keyboard\" in filename] \n",
    "\n"
   ]
  },
  {
   "cell_type": "code",
   "execution_count": null,
   "metadata": {},
   "outputs": [],
   "source": []
  },
  {
   "cell_type": "code",
   "execution_count": 5,
   "metadata": {},
   "outputs": [],
   "source": [
    "#Pick a random sample from each instrument list\n",
    "waveforms = add_waveform_to_list(pick_5_samples([bass, guitar, flutes, keyboards]))\n",
    "\n",
    "\n"
   ]
  },
  {
   "cell_type": "code",
   "execution_count": 6,
   "metadata": {},
   "outputs": [
    {
     "data": {
      "image/png": "[encoded data removed]",
      "text/plain": [
       "<Figure size 1500x500 with 1 Axes>"
      ]
     },
     "metadata": {},
     "output_type": "display_data"
    }
   ],
   "source": [
    "#Combine in a single list\n",
    "combo = normalize_waveform(waveforms[0]) + normalize_waveform(waveforms[1]) +normalize_waveform(waveforms[2]) + normalize_waveform(waveforms[3])\n",
    "\n",
    "sam_rate = 16000\n",
    "\n",
    "plot_waveform(combo, sam_rate)\n"
   ]
  },
  {
   "cell_type": "code",
   "execution_count": null,
   "metadata": {},
   "outputs": [],
   "source": []
  },
  {
   "cell_type": "code",
   "execution_count": 8,
   "metadata": {},
   "outputs": [
    {
     "data": {
      "image/png": "[encoded data removed]",
      "text/plain": [
       "<Figure size 1500x500 with 1 Axes>"
      ]
     },
     "metadata": {},
     "output_type": "display_data"
    }
   ],
   "source": [
    "# Fast Fourier Transform (FFT) to convert the waveform to the frequency domain\n",
    "def plot_fft(waveform, framerate):\n",
    "    # Perform the FFT\n",
    "    spectrum = fft.fft(waveform)\n",
    "    freqs = fft.fftfreq(len(spectrum), 1 / framerate)\n",
    "    # Plot the magnitude of the spectrum\n",
    "    plt.figure(figsize=(15, 5))\n",
    "    plt.plot(freqs[:len(freqs) // 2], np.abs(spectrum)[:len(freqs) // 2])\n",
    "    plt.xlabel('Frequency (Hz)')\n",
    "    plt.ylabel('Magnitude')\n",
    "    plt.title('Frequency Spectrum')\n",
    "    plt.show()\n",
    "\n",
    "plot_fft(combo, sam_rate)\n"
   ]
  },
  {
   "cell_type": "code",
   "execution_count": 9,
   "metadata": {},
   "outputs": [],
   "source": [
    "keybords_mask  = [filename for filename in filenames if \"keyboard\" in filename]\n",
    "bass_mask = [filename for filename in filenames if \"bass\" in filename]\n",
    "guitar_mask = [filename for filename in filenames if \"guitar\" in filename]\n",
    "\n"
   ]
  },
  {
   "cell_type": "code",
   "execution_count": 10,
   "metadata": {},
   "outputs": [],
   "source": [
    "\n",
    "# combine the two masks\n",
    "mask = keybords_mask + bass_mask + guitar_mask"
   ]
  },
  {
   "cell_type": "code",
   "execution_count": 10,
   "metadata": {},
   "outputs": [],
   "source": [
    "# generate a datafile with the mask filenames and their labels, as an example 'keyboard_acoustic_004-034-075.wav', 'keyboard'\n",
    "data = []\n",
    "for filename in mask:\n",
    "    label = filename.split('_')[0]\n",
    "    data.append([filename, label])\n",
    "df = pd.DataFrame(data, columns=['filename', 'label'])\n",
    "df.to_csv('mask.csv', index=False)\n"
   ]
  },
  {
   "cell_type": "code",
   "execution_count": 11,
   "metadata": {},
   "outputs": [
    {
     "ename": "TypeError",
     "evalue": "can only concatenate list (not \"str\") to list",
     "output_type": "error",
     "traceback": [
      "\u001b[1;31m---------------------------------------------------------------------------\u001b[0m",
      "\u001b[1;31mTypeError\u001b[0m                                 Traceback (most recent call last)",
      "Cell \u001b[1;32mIn[11], line 28\u001b[0m\n\u001b[0;32m     25\u001b[0m     plt\u001b[38;5;241m.\u001b[39mxlabel(\u001b[38;5;124m'\u001b[39m\u001b[38;5;124mTime [sec]\u001b[39m\u001b[38;5;124m'\u001b[39m)\n\u001b[0;32m     26\u001b[0m     plt\u001b[38;5;241m.\u001b[39mshow()\n\u001b[1;32m---> 28\u001b[0m waveforms \u001b[38;5;241m=\u001b[39m \u001b[43mread_wav_files\u001b[49m\u001b[43m(\u001b[49m\u001b[43mmask\u001b[49m\u001b[43m)\u001b[49m\n\u001b[0;32m     29\u001b[0m waveforms \u001b[38;5;241m=\u001b[39m normalize_waveforms(waveforms)\n\u001b[0;32m     30\u001b[0m f, t, Zxx \u001b[38;5;241m=\u001b[39m stft(waveforms[\u001b[38;5;241m0\u001b[39m], sam_rate)\n",
      "Cell \u001b[1;32mIn[11], line 9\u001b[0m, in \u001b[0;36mread_wav_files\u001b[1;34m(filenames)\u001b[0m\n\u001b[0;32m      7\u001b[0m waveforms \u001b[38;5;241m=\u001b[39m []\n\u001b[0;32m      8\u001b[0m \u001b[38;5;28;01mfor\u001b[39;00m filename \u001b[38;5;129;01min\u001b[39;00m filenames:\n\u001b[1;32m----> 9\u001b[0m     waveform, params \u001b[38;5;241m=\u001b[39m read_wav_file(\u001b[43mdata\u001b[49m\u001b[43m \u001b[49m\u001b[38;5;241;43m+\u001b[39;49m\u001b[43m \u001b[49m\u001b[43mfilename\u001b[49m)\n\u001b[0;32m     10\u001b[0m     waveforms\u001b[38;5;241m.\u001b[39mappend(waveform)\n\u001b[0;32m     11\u001b[0m \u001b[38;5;28;01mreturn\u001b[39;00m waveforms\n",
      "\u001b[1;31mTypeError\u001b[0m: can only concatenate list (not \"str\") to list"
     ]
    }
   ],
   "source": [
    "# Convert the mask to frequency domain using FFT\n",
    "import scipy.signal as signal\n",
    "# using ShortTimeFFT to convert the waveform to the frequency domain\n",
    "\n",
    "\n",
    "def read_wav_files(filenames):\n",
    "    waveforms = []\n",
    "    for filename in filenames:\n",
    "        waveform, params = read_wav_file(data + filename)\n",
    "        waveforms.append(waveform)\n",
    "    return waveforms\n",
    "\n",
    "def normalize_waveforms(waveforms):\n",
    "    return [waveform / np.max(np.abs(waveform)) for waveform in waveforms]\n",
    "\n",
    "def stft(waveform, framerate):\n",
    "    f, t, Zxx = signal.stft(waveform, framerate, nperseg=1024)\n",
    "    return f, t, Zxx\n",
    "\n",
    "def plot_spectrogram(f, t, Zxx):\n",
    "    plt.figure(figsize=(15, 5))\n",
    "    plt.pcolormesh(t, f, np.abs(Zxx), shading='gouraud')\n",
    "    plt.title('STFT Magnitude')\n",
    "    plt.ylabel('Frequency [Hz]')\n",
    "    plt.xlabel('Time [sec]')\n",
    "    plt.show()\n",
    "\n",
    "waveforms = read_wav_files(mask)\n",
    "waveforms = normalize_waveforms(waveforms)\n",
    "f, t, Zxx = stft(waveforms[0], sam_rate)\n",
    "plot_spectrogram(f, t, Zxx)\n"
   ]
  },
  {
   "cell_type": "code",
   "execution_count": null,
   "metadata": {},
   "outputs": [
    {
     "name": "stdout",
     "output_type": "stream",
     "text": [
      "Epoch 1/100\n",
      "\u001b[1m46/46\u001b[0m \u001b[32m━━━━━━━━━━━━━━━━━━━━\u001b[0m\u001b[37m\u001b[0m \u001b[1m4s\u001b[0m 62ms/step - accuracy: 0.5414 - loss: 0.9981 - val_accuracy: 0.6934 - val_loss: 0.6974\n",
      "Epoch 2/100\n",
      "\u001b[1m46/46\u001b[0m \u001b[32m━━━━━━━━━━━━━━━━━━━━\u001b[0m\u001b[37m\u001b[0m \u001b[1m3s\u001b[0m 55ms/step - accuracy: 0.7349 - loss: 0.6557 - val_accuracy: 0.7624 - val_loss: 0.5887\n",
      "Epoch 3/100\n",
      "\u001b[1m46/46\u001b[0m \u001b[32m━━━━━━━━━━━━━━━━━━━━\u001b[0m\u001b[37m\u001b[0m \u001b[1m3s\u001b[0m 56ms/step - accuracy: 0.8444 - loss: 0.4319 - val_accuracy: 0.7956 - val_loss: 0.4805\n",
      "Epoch 4/100\n",
      "\u001b[1m46/46\u001b[0m \u001b[32m━━━━━━━━━━━━━━━━━━━━\u001b[0m\u001b[37m\u001b[0m \u001b[1m3s\u001b[0m 60ms/step - accuracy: 0.8973 - loss: 0.3009 - val_accuracy: 0.8453 - val_loss: 0.3883\n",
      "Epoch 5/100\n",
      "\u001b[1m46/46\u001b[0m \u001b[32m━━━━━━━━━━━━━━━━━━━━\u001b[0m\u001b[37m\u001b[0m \u001b[1m3s\u001b[0m 60ms/step - accuracy: 0.9480 - loss: 0.1776 - val_accuracy: 0.8453 - val_loss: 0.3952\n",
      "Epoch 6/100\n",
      "\u001b[1m46/46\u001b[0m \u001b[32m━━━━━━━━━━━━━━━━━━━━\u001b[0m\u001b[37m\u001b[0m \u001b[1m3s\u001b[0m 58ms/step - accuracy: 0.9540 - loss: 0.1544 - val_accuracy: 0.8923 - val_loss: 0.3266\n",
      "Epoch 7/100\n",
      "\u001b[1m46/46\u001b[0m \u001b[32m━━━━━━━━━━━━━━━━━━━━\u001b[0m\u001b[37m\u001b[0m \u001b[1m3s\u001b[0m 58ms/step - accuracy: 0.9883 - loss: 0.0767 - val_accuracy: 0.8840 - val_loss: 0.3285\n",
      "Epoch 8/100\n",
      "\u001b[1m46/46\u001b[0m \u001b[32m━━━━━━━━━━━━━━━━━━━━\u001b[0m\u001b[37m\u001b[0m \u001b[1m3s\u001b[0m 58ms/step - accuracy: 0.9868 - loss: 0.0540 - val_accuracy: 0.8978 - val_loss: 0.3212\n",
      "Epoch 9/100\n",
      "\u001b[1m46/46\u001b[0m \u001b[32m━━━━━━━━━━━━━━━━━━━━\u001b[0m\u001b[37m\u001b[0m \u001b[1m3s\u001b[0m 60ms/step - accuracy: 0.9850 - loss: 0.0437 - val_accuracy: 0.8591 - val_loss: 0.3964\n",
      "Epoch 10/100\n",
      "\u001b[1m46/46\u001b[0m \u001b[32m━━━━━━━━━━━━━━━━━━━━\u001b[0m\u001b[37m\u001b[0m \u001b[1m3s\u001b[0m 62ms/step - accuracy: 0.9888 - loss: 0.0517 - val_accuracy: 0.8840 - val_loss: 0.3490\n",
      "Epoch 11/100\n",
      "\u001b[1m46/46\u001b[0m \u001b[32m━━━━━━━━━━━━━━━━━━━━\u001b[0m\u001b[37m\u001b[0m \u001b[1m3s\u001b[0m 61ms/step - accuracy: 0.9885 - loss: 0.0310 - val_accuracy: 0.8702 - val_loss: 0.4679\n",
      "Epoch 12/100\n",
      "\u001b[1m46/46\u001b[0m \u001b[32m━━━━━━━━━━━━━━━━━━━━\u001b[0m\u001b[37m\u001b[0m \u001b[1m3s\u001b[0m 61ms/step - accuracy: 0.9956 - loss: 0.0236 - val_accuracy: 0.9061 - val_loss: 0.3100\n",
      "Epoch 13/100\n",
      "\u001b[1m46/46\u001b[0m \u001b[32m━━━━━━━━━━━━━━━━━━━━\u001b[0m\u001b[37m\u001b[0m \u001b[1m3s\u001b[0m 58ms/step - accuracy: 0.9977 - loss: 0.0079 - val_accuracy: 0.9061 - val_loss: 0.3115\n",
      "Epoch 14/100\n",
      "\u001b[1m46/46\u001b[0m \u001b[32m━━━━━━━━━━━━━━━━━━━━\u001b[0m\u001b[37m\u001b[0m \u001b[1m3s\u001b[0m 56ms/step - accuracy: 1.0000 - loss: 0.0038 - val_accuracy: 0.9006 - val_loss: 0.3320\n",
      "Epoch 15/100\n",
      "\u001b[1m46/46\u001b[0m \u001b[32m━━━━━━━━━━━━━━━━━━━━\u001b[0m\u001b[37m\u001b[0m \u001b[1m3s\u001b[0m 58ms/step - accuracy: 0.9986 - loss: 0.0075 - val_accuracy: 0.8867 - val_loss: 0.4876\n",
      "Epoch 16/100\n",
      "\u001b[1m46/46\u001b[0m \u001b[32m━━━━━━━━━━━━━━━━━━━━\u001b[0m\u001b[37m\u001b[0m \u001b[1m3s\u001b[0m 57ms/step - accuracy: 0.9988 - loss: 0.0045 - val_accuracy: 0.9088 - val_loss: 0.3775\n",
      "Epoch 17/100\n",
      "\u001b[1m46/46\u001b[0m \u001b[32m━━━━━━━━━━━━━━━━━━━━\u001b[0m\u001b[37m\u001b[0m \u001b[1m3s\u001b[0m 57ms/step - accuracy: 1.0000 - loss: 0.0019 - val_accuracy: 0.9088 - val_loss: 0.3741\n"
     ]
    }
   ],
   "source": [
    "# Train a simple neural network to classify the mask catagories using the STFT data as input\n",
    "# Load the data\n",
    "df = pd.read_csv('mask.csv')\n",
    "filenames = df['filename']\n",
    "labels = df['label']\n",
    "waveforms = read_wav_files(filenames)\n",
    "\n",
    "# Normalize the waveforms\n",
    "waveforms = normalize_waveforms(waveforms)\n",
    "\n",
    "# Convert the waveforms to the frequency domain\n",
    "X = []\n",
    "for waveform in waveforms:\n",
    "    f, t, Zxx = stft(waveform, sam_rate)\n",
    "    X.append(np.abs(Zxx))\n",
    "X = np.array(X)\n",
    "\n",
    "# Convert the labels to one-hot encoding\n",
    "from sklearn.preprocessing import LabelEncoder\n",
    "from sklearn.preprocessing import OneHotEncoder\n",
    "\n",
    "label_encoder = LabelEncoder()\n",
    "integer_encoded = label_encoder.fit_transform(labels)\n",
    "onehot_encoder = OneHotEncoder(sparse_output=False)\n",
    "integer_encoded = integer_encoded.reshape(len(integer_encoded), 1)\n",
    "y = onehot_encoder.fit_transform(integer_encoded)\n",
    "\n",
    "# Split the data into training and testing sets\n",
    "X_train, X_test, y_train, y_test = train_test_split(X, y, test_size=0.2, random_state=42)\n",
    "\n",
    "# Build the neural network\n",
    "model = models.Sequential()\n",
    "model.add(layers.Input(shape=(X.shape[1], X.shape[2])))\n",
    "model.add(layers.Flatten())\n",
    "model.add(layers.Dense(128, activation='relu'))\n",
    "model.add(layers.Dense(64, activation='relu'))\n",
    "model.add(layers.Dense(32, activation='relu'))\n",
    "model.add(layers.Dense(3, activation='softmax'))\n",
    "\n",
    "model.compile(optimizer='adam', loss='categorical_crossentropy', metrics=['accuracy'])\n",
    "\n",
    "# Train the model implement early stopping\n",
    "early_stopping = callbacks.EarlyStopping(monitor='val_loss', patience=5)\n",
    "history = model.fit(X_train, y_train, validation_split=0.2, epochs=100, callbacks=[early_stopping])\n",
    "\n",
    "\n"
   ]
  },
  {
   "cell_type": "code",
   "execution_count": null,
   "metadata": {},
   "outputs": [
    {
     "name": "stdout",
     "output_type": "stream",
     "text": [
      "\u001b[1m15/15\u001b[0m \u001b[32m━━━━━━━━━━━━━━━━━━━━\u001b[0m\u001b[37m\u001b[0m \u001b[1m0s\u001b[0m 6ms/step - accuracy: 0.9166 - loss: 0.5624\n",
      "Loss: 0.5449233651161194, Accuracy: 0.9227373003959656\n"
     ]
    }
   ],
   "source": [
    "# Evaluate the model\n",
    "loss, accuracy = model.evaluate(X_test, y_test)\n",
    "print(f'Loss: {loss}, Accuracy: {accuracy}')\n"
   ]
  },
  {
   "cell_type": "code",
   "execution_count": 11,
   "metadata": {},
   "outputs": [],
   "source": [
    "\n",
    "\n",
    "guitar = read_wav_file(path + 'guitar_acoustic_015-075-127.wav')[0]\n",
    "keyboard = read_wav_file(path + 'keyboard_acoustic_004-045-025.wav')[0]\n",
    "bass = read_wav_file(path + 'bass_electronic_018-029-075.wav')[0]\n",
    "combo= combine_waveforms([keyboard, guitar, bass])\n",
    "waveform_to_wavfile(combo,\"combo.wav\")\n"
   ]
  },
  {
   "cell_type": "code",
   "execution_count": null,
   "metadata": {},
   "outputs": [
    {
     "name": "stdout",
     "output_type": "stream",
     "text": [
      "keyboard_acoustic_004-022-050.wav\n"
     ]
    }
   ],
   "source": []
  },
  {
   "cell_type": "code",
   "execution_count": null,
   "metadata": {},
   "outputs": [
    {
     "name": "stdout",
     "output_type": "stream",
     "text": [
      "\u001b[1m1/1\u001b[0m \u001b[32m━━━━━━━━━━━━━━━━━━━━\u001b[0m\u001b[37m\u001b[0m \u001b[1m0s\u001b[0m 26ms/step\n",
      "The predicted label is: keyboard\n"
     ]
    }
   ],
   "source": [
    "# Using the trained model to predict the mask of the mixed audio file\n",
    "waveform, params = read_wav_file('combo.wav')\n",
    "waveform = normalize_waveform(waveform)\n",
    "f, t, Zxx = stft(waveform, sam_rate)\n",
    "X = np.array([np.abs(Zxx)])\n",
    "y_pred = model.predict(X)\n",
    "y_pred = np.argmax(y_pred, axis=1)\n",
    "label = label_encoder.inverse_transform(y_pred)\n",
    "print(f'The predicted label is: {label[0]}')\n"
   ]
  },
  {
   "cell_type": "code",
   "execution_count": null,
   "metadata": {},
   "outputs": [
    {
     "data": {
      "text/plain": [
       "(129, 285)"
      ]
     },
     "execution_count": 56,
     "metadata": {},
     "output_type": "execute_result"
    }
   ],
   "source": [
    "#Using gen_data_set to generate a dataset of 1000 samples\n",
    "data, labels = gen_data_set(1000)\n",
    "data = np.array(data)\n",
    "labels = np.array(labels)\n",
    "data[9].shape\n",
    "\n",
    "\n"
   ]
  },
  {
   "cell_type": "code",
   "execution_count": null,
   "metadata": {},
   "outputs": [
    {
     "data": {
      "text/plain": [
       "(1000, 129, 501)"
      ]
     },
     "execution_count": 54,
     "metadata": {},
     "output_type": "execute_result"
    }
   ],
   "source": [
    "# Find the shape of 1 element in the data\n",
    "data.shape\n"
   ]
  },
  {
   "cell_type": "code",
   "execution_count": null,
   "metadata": {},
   "outputs": [
    {
     "data": {
      "text/html": [
       "<pre style=\"white-space:pre;overflow-x:auto;line-height:normal;font-family:Menlo,'DejaVu Sans Mono',consolas,'Courier New',monospace\"><span style=\"font-weight: bold\">Model: \"sequential_23\"</span>\n",
       "</pre>\n"
      ],
      "text/plain": [
       "\u001b[1mModel: \"sequential_23\"\u001b[0m\n"
      ]
     },
     "metadata": {},
     "output_type": "display_data"
    },
    {
     "data": {
      "text/html": [
       "<pre style=\"white-space:pre;overflow-x:auto;line-height:normal;font-family:Menlo,'DejaVu Sans Mono',consolas,'Courier New',monospace\">┏━━━━━━━━━━━━━━━━━━━━━━━━━━━━━━━━━┳━━━━━━━━━━━━━━━━━━━━━━━━┳━━━━━━━━━━━━━━━┓\n",
       "┃<span style=\"font-weight: bold\"> Layer (type)                    </span>┃<span style=\"font-weight: bold\"> Output Shape           </span>┃<span style=\"font-weight: bold\">       Param # </span>┃\n",
       "┡━━━━━━━━━━━━━━━━━━━━━━━━━━━━━━━━━╇━━━━━━━━━━━━━━━━━━━━━━━━╇━━━━━━━━━━━━━━━┩\n",
       "│ conv2d_23 (<span style=\"color: #0087ff; text-decoration-color: #0087ff\">Conv2D</span>)              │ (<span style=\"color: #00d7ff; text-decoration-color: #00d7ff\">None</span>, <span style=\"color: #00af00; text-decoration-color: #00af00\">127</span>, <span style=\"color: #00af00; text-decoration-color: #00af00\">283</span>, <span style=\"color: #00af00; text-decoration-color: #00af00\">32</span>)   │           <span style=\"color: #00af00; text-decoration-color: #00af00\">320</span> │\n",
       "├─────────────────────────────────┼────────────────────────┼───────────────┤\n",
       "│ max_pooling2d_21 (<span style=\"color: #0087ff; text-decoration-color: #0087ff\">MaxPooling2D</span>) │ (<span style=\"color: #00d7ff; text-decoration-color: #00d7ff\">None</span>, <span style=\"color: #00af00; text-decoration-color: #00af00\">63</span>, <span style=\"color: #00af00; text-decoration-color: #00af00\">141</span>, <span style=\"color: #00af00; text-decoration-color: #00af00\">32</span>)    │             <span style=\"color: #00af00; text-decoration-color: #00af00\">0</span> │\n",
       "├─────────────────────────────────┼────────────────────────┼───────────────┤\n",
       "│ conv2d_24 (<span style=\"color: #0087ff; text-decoration-color: #0087ff\">Conv2D</span>)              │ (<span style=\"color: #00d7ff; text-decoration-color: #00d7ff\">None</span>, <span style=\"color: #00af00; text-decoration-color: #00af00\">61</span>, <span style=\"color: #00af00; text-decoration-color: #00af00\">139</span>, <span style=\"color: #00af00; text-decoration-color: #00af00\">64</span>)    │        <span style=\"color: #00af00; text-decoration-color: #00af00\">18,496</span> │\n",
       "├─────────────────────────────────┼────────────────────────┼───────────────┤\n",
       "│ max_pooling2d_22 (<span style=\"color: #0087ff; text-decoration-color: #0087ff\">MaxPooling2D</span>) │ (<span style=\"color: #00d7ff; text-decoration-color: #00d7ff\">None</span>, <span style=\"color: #00af00; text-decoration-color: #00af00\">30</span>, <span style=\"color: #00af00; text-decoration-color: #00af00\">69</span>, <span style=\"color: #00af00; text-decoration-color: #00af00\">64</span>)     │             <span style=\"color: #00af00; text-decoration-color: #00af00\">0</span> │\n",
       "├─────────────────────────────────┼────────────────────────┼───────────────┤\n",
       "│ conv2d_25 (<span style=\"color: #0087ff; text-decoration-color: #0087ff\">Conv2D</span>)              │ (<span style=\"color: #00d7ff; text-decoration-color: #00d7ff\">None</span>, <span style=\"color: #00af00; text-decoration-color: #00af00\">28</span>, <span style=\"color: #00af00; text-decoration-color: #00af00\">67</span>, <span style=\"color: #00af00; text-decoration-color: #00af00\">128</span>)    │        <span style=\"color: #00af00; text-decoration-color: #00af00\">73,856</span> │\n",
       "├─────────────────────────────────┼────────────────────────┼───────────────┤\n",
       "│ max_pooling2d_23 (<span style=\"color: #0087ff; text-decoration-color: #0087ff\">MaxPooling2D</span>) │ (<span style=\"color: #00d7ff; text-decoration-color: #00d7ff\">None</span>, <span style=\"color: #00af00; text-decoration-color: #00af00\">14</span>, <span style=\"color: #00af00; text-decoration-color: #00af00\">33</span>, <span style=\"color: #00af00; text-decoration-color: #00af00\">128</span>)    │             <span style=\"color: #00af00; text-decoration-color: #00af00\">0</span> │\n",
       "├─────────────────────────────────┼────────────────────────┼───────────────┤\n",
       "│ flatten_16 (<span style=\"color: #0087ff; text-decoration-color: #0087ff\">Flatten</span>)            │ (<span style=\"color: #00d7ff; text-decoration-color: #00d7ff\">None</span>, <span style=\"color: #00af00; text-decoration-color: #00af00\">59136</span>)          │             <span style=\"color: #00af00; text-decoration-color: #00af00\">0</span> │\n",
       "├─────────────────────────────────┼────────────────────────┼───────────────┤\n",
       "│ dense_52 (<span style=\"color: #0087ff; text-decoration-color: #0087ff\">Dense</span>)                │ (<span style=\"color: #00d7ff; text-decoration-color: #00d7ff\">None</span>, <span style=\"color: #00af00; text-decoration-color: #00af00\">128</span>)            │     <span style=\"color: #00af00; text-decoration-color: #00af00\">7,569,536</span> │\n",
       "├─────────────────────────────────┼────────────────────────┼───────────────┤\n",
       "│ dense_53 (<span style=\"color: #0087ff; text-decoration-color: #0087ff\">Dense</span>)                │ (<span style=\"color: #00d7ff; text-decoration-color: #00d7ff\">None</span>, <span style=\"color: #00af00; text-decoration-color: #00af00\">64</span>)             │         <span style=\"color: #00af00; text-decoration-color: #00af00\">8,256</span> │\n",
       "├─────────────────────────────────┼────────────────────────┼───────────────┤\n",
       "│ dense_54 (<span style=\"color: #0087ff; text-decoration-color: #0087ff\">Dense</span>)                │ (<span style=\"color: #00d7ff; text-decoration-color: #00d7ff\">None</span>, <span style=\"color: #00af00; text-decoration-color: #00af00\">32</span>)             │         <span style=\"color: #00af00; text-decoration-color: #00af00\">2,080</span> │\n",
       "├─────────────────────────────────┼────────────────────────┼───────────────┤\n",
       "│ dense_55 (<span style=\"color: #0087ff; text-decoration-color: #0087ff\">Dense</span>)                │ (<span style=\"color: #00d7ff; text-decoration-color: #00d7ff\">None</span>, <span style=\"color: #00af00; text-decoration-color: #00af00\">4</span>)              │           <span style=\"color: #00af00; text-decoration-color: #00af00\">132</span> │\n",
       "└─────────────────────────────────┴────────────────────────┴───────────────┘\n",
       "</pre>\n"
      ],
      "text/plain": [
       "┏━━━━━━━━━━━━━━━━━━━━━━━━━━━━━━━━━┳━━━━━━━━━━━━━━━━━━━━━━━━┳━━━━━━━━━━━━━━━┓\n",
       "┃\u001b[1m \u001b[0m\u001b[1mLayer (type)                   \u001b[0m\u001b[1m \u001b[0m┃\u001b[1m \u001b[0m\u001b[1mOutput Shape          \u001b[0m\u001b[1m \u001b[0m┃\u001b[1m \u001b[0m\u001b[1m      Param #\u001b[0m\u001b[1m \u001b[0m┃\n",
       "┡━━━━━━━━━━━━━━━━━━━━━━━━━━━━━━━━━╇━━━━━━━━━━━━━━━━━━━━━━━━╇━━━━━━━━━━━━━━━┩\n",
       "│ conv2d_23 (\u001b[38;5;33mConv2D\u001b[0m)              │ (\u001b[38;5;45mNone\u001b[0m, \u001b[38;5;34m127\u001b[0m, \u001b[38;5;34m283\u001b[0m, \u001b[38;5;34m32\u001b[0m)   │           \u001b[38;5;34m320\u001b[0m │\n",
       "├─────────────────────────────────┼────────────────────────┼───────────────┤\n",
       "│ max_pooling2d_21 (\u001b[38;5;33mMaxPooling2D\u001b[0m) │ (\u001b[38;5;45mNone\u001b[0m, \u001b[38;5;34m63\u001b[0m, \u001b[38;5;34m141\u001b[0m, \u001b[38;5;34m32\u001b[0m)    │             \u001b[38;5;34m0\u001b[0m │\n",
       "├─────────────────────────────────┼────────────────────────┼───────────────┤\n",
       "│ conv2d_24 (\u001b[38;5;33mConv2D\u001b[0m)              │ (\u001b[38;5;45mNone\u001b[0m, \u001b[38;5;34m61\u001b[0m, \u001b[38;5;34m139\u001b[0m, \u001b[38;5;34m64\u001b[0m)    │        \u001b[38;5;34m18,496\u001b[0m │\n",
       "├─────────────────────────────────┼────────────────────────┼───────────────┤\n",
       "│ max_pooling2d_22 (\u001b[38;5;33mMaxPooling2D\u001b[0m) │ (\u001b[38;5;45mNone\u001b[0m, \u001b[38;5;34m30\u001b[0m, \u001b[38;5;34m69\u001b[0m, \u001b[38;5;34m64\u001b[0m)     │             \u001b[38;5;34m0\u001b[0m │\n",
       "├─────────────────────────────────┼────────────────────────┼───────────────┤\n",
       "│ conv2d_25 (\u001b[38;5;33mConv2D\u001b[0m)              │ (\u001b[38;5;45mNone\u001b[0m, \u001b[38;5;34m28\u001b[0m, \u001b[38;5;34m67\u001b[0m, \u001b[38;5;34m128\u001b[0m)    │        \u001b[38;5;34m73,856\u001b[0m │\n",
       "├─────────────────────────────────┼────────────────────────┼───────────────┤\n",
       "│ max_pooling2d_23 (\u001b[38;5;33mMaxPooling2D\u001b[0m) │ (\u001b[38;5;45mNone\u001b[0m, \u001b[38;5;34m14\u001b[0m, \u001b[38;5;34m33\u001b[0m, \u001b[38;5;34m128\u001b[0m)    │             \u001b[38;5;34m0\u001b[0m │\n",
       "├─────────────────────────────────┼────────────────────────┼───────────────┤\n",
       "│ flatten_16 (\u001b[38;5;33mFlatten\u001b[0m)            │ (\u001b[38;5;45mNone\u001b[0m, \u001b[38;5;34m59136\u001b[0m)          │             \u001b[38;5;34m0\u001b[0m │\n",
       "├─────────────────────────────────┼────────────────────────┼───────────────┤\n",
       "│ dense_52 (\u001b[38;5;33mDense\u001b[0m)                │ (\u001b[38;5;45mNone\u001b[0m, \u001b[38;5;34m128\u001b[0m)            │     \u001b[38;5;34m7,569,536\u001b[0m │\n",
       "├─────────────────────────────────┼────────────────────────┼───────────────┤\n",
       "│ dense_53 (\u001b[38;5;33mDense\u001b[0m)                │ (\u001b[38;5;45mNone\u001b[0m, \u001b[38;5;34m64\u001b[0m)             │         \u001b[38;5;34m8,256\u001b[0m │\n",
       "├─────────────────────────────────┼────────────────────────┼───────────────┤\n",
       "│ dense_54 (\u001b[38;5;33mDense\u001b[0m)                │ (\u001b[38;5;45mNone\u001b[0m, \u001b[38;5;34m32\u001b[0m)             │         \u001b[38;5;34m2,080\u001b[0m │\n",
       "├─────────────────────────────────┼────────────────────────┼───────────────┤\n",
       "│ dense_55 (\u001b[38;5;33mDense\u001b[0m)                │ (\u001b[38;5;45mNone\u001b[0m, \u001b[38;5;34m4\u001b[0m)              │           \u001b[38;5;34m132\u001b[0m │\n",
       "└─────────────────────────────────┴────────────────────────┴───────────────┘\n"
      ]
     },
     "metadata": {},
     "output_type": "display_data"
    },
    {
     "data": {
      "text/html": [
       "<pre style=\"white-space:pre;overflow-x:auto;line-height:normal;font-family:Menlo,'DejaVu Sans Mono',consolas,'Courier New',monospace\"><span style=\"font-weight: bold\"> Total params: </span><span style=\"color: #00af00; text-decoration-color: #00af00\">7,672,676</span> (29.27 MB)\n",
       "</pre>\n"
      ],
      "text/plain": [
       "\u001b[1m Total params: \u001b[0m\u001b[38;5;34m7,672,676\u001b[0m (29.27 MB)\n"
      ]
     },
     "metadata": {},
     "output_type": "display_data"
    },
    {
     "data": {
      "text/html": [
       "<pre style=\"white-space:pre;overflow-x:auto;line-height:normal;font-family:Menlo,'DejaVu Sans Mono',consolas,'Courier New',monospace\"><span style=\"font-weight: bold\"> Trainable params: </span><span style=\"color: #00af00; text-decoration-color: #00af00\">7,672,676</span> (29.27 MB)\n",
       "</pre>\n"
      ],
      "text/plain": [
       "\u001b[1m Trainable params: \u001b[0m\u001b[38;5;34m7,672,676\u001b[0m (29.27 MB)\n"
      ]
     },
     "metadata": {},
     "output_type": "display_data"
    },
    {
     "data": {
      "text/html": [
       "<pre style=\"white-space:pre;overflow-x:auto;line-height:normal;font-family:Menlo,'DejaVu Sans Mono',consolas,'Courier New',monospace\"><span style=\"font-weight: bold\"> Non-trainable params: </span><span style=\"color: #00af00; text-decoration-color: #00af00\">0</span> (0.00 B)\n",
       "</pre>\n"
      ],
      "text/plain": [
       "\u001b[1m Non-trainable params: \u001b[0m\u001b[38;5;34m0\u001b[0m (0.00 B)\n"
      ]
     },
     "metadata": {},
     "output_type": "display_data"
    }
   ],
   "source": [
    "import numpy as np\n",
    "import pandas as pd\n",
    "from sklearn.model_selection import train_test_split\n",
    "from sklearn.preprocessing import MultiLabelBinarizer\n",
    "from tensorflow.keras import layers, models, callbacks\n",
    "from tensorflow.keras.optimizers import Adam\n",
    "from scipy.signal import stft\n",
    "from sklearn.metrics import f1_score\n",
    "import tensorflow.keras.backend as K\n",
    "\n",
    "#Using gen_data_set to generate a dataset of 1000 samples\n",
    "# normalize the data with standard scaler\n",
    "data, labels = gen_data_set(1000)\n",
    "data = np.array(data)\n",
    "labels = np.array(labels)\n",
    "scaler = StandardScaler()\n",
    "data = scaler.fit_transform(data.reshape(-1, data.shape[-1])).reshape(data.shape)\n",
    "\n",
    "\n",
    "#Split the data into training and testing sets\n",
    "X_train, X_test, y_train, y_test = train_test_split(data, labels, test_size=0.2, random_state=42)\n",
    "# use 2d convolutional layers to classify the audio samples in data into the labels in labels\n",
    "model = models.Sequential()\n",
    "model.add(layers.Input(shape=(129,285, 1)))\n",
    "model.add(layers.Conv2D(32, (3, 3), activation='relu'))\n",
    "model.add(layers.MaxPooling2D((2, 2)))\n",
    "model.add(layers.Conv2D(64, (3, 3), activation='relu'))\n",
    "model.add(layers.MaxPooling2D((2, 2)))\n",
    "model.add(layers.Conv2D(128, (3, 3), activation='relu'))\n",
    "model.add(layers.MaxPooling2D((2, 2)))\n",
    "model.add(layers.Flatten())\n",
    "model.add(layers.Dense(128, activation='relu'))\n",
    "model.add(layers.Dense(64, activation='relu'))\n",
    "model.add(layers.Dense(32, activation='relu'))\n",
    "model.add(layers.Dense(4, activation='sigmoid'))\n",
    "\n",
    "model.compile(optimizer='adam', loss='binary_crossentropy', metrics=['accuracy'])\n",
    "model.summary()\n",
    "\n",
    "\n"
   ]
  },
  {
   "cell_type": "code",
   "execution_count": null,
   "metadata": {},
   "outputs": [
    {
     "name": "stdout",
     "output_type": "stream",
     "text": [
      "Epoch 1/100\n",
      "\u001b[1m20/20\u001b[0m \u001b[32m━━━━━━━━━━━━━━━━━━━━\u001b[0m\u001b[37m\u001b[0m \u001b[1m12s\u001b[0m 614ms/step - accuracy: 0.5269 - loss: 0.1569 - val_accuracy: 0.4437 - val_loss: 0.8963\n",
      "Epoch 2/100\n",
      "\u001b[1m20/20\u001b[0m \u001b[32m━━━━━━━━━━━━━━━━━━━━\u001b[0m\u001b[37m\u001b[0m \u001b[1m11s\u001b[0m 514ms/step - accuracy: 0.4909 - loss: 0.1853 - val_accuracy: 0.4313 - val_loss: 0.8826\n",
      "Epoch 3/100\n",
      "\u001b[1m20/20\u001b[0m \u001b[32m━━━━━━━━━━━━━━━━━━━━\u001b[0m\u001b[37m\u001b[0m \u001b[1m10s\u001b[0m 497ms/step - accuracy: 0.4686 - loss: 0.1627 - val_accuracy: 0.4500 - val_loss: 0.9355\n",
      "Epoch 4/100\n",
      "\u001b[1m20/20\u001b[0m \u001b[32m━━━━━━━━━━━━━━━━━━━━\u001b[0m\u001b[37m\u001b[0m \u001b[1m10s\u001b[0m 499ms/step - accuracy: 0.5314 - loss: 0.1401 - val_accuracy: 0.4375 - val_loss: 0.9983\n",
      "Epoch 5/100\n",
      "\u001b[1m20/20\u001b[0m \u001b[32m━━━━━━━━━━━━━━━━━━━━\u001b[0m\u001b[37m\u001b[0m \u001b[1m10s\u001b[0m 504ms/step - accuracy: 0.5143 - loss: 0.1022 - val_accuracy: 0.4313 - val_loss: 1.1366\n",
      "Epoch 6/100\n",
      "\u001b[1m20/20\u001b[0m \u001b[32m━━━━━━━━━━━━━━━━━━━━\u001b[0m\u001b[37m\u001b[0m \u001b[1m10s\u001b[0m 510ms/step - accuracy: 0.4705 - loss: 0.1112 - val_accuracy: 0.4125 - val_loss: 1.0871\n",
      "Epoch 7/100\n",
      "\u001b[1m20/20\u001b[0m \u001b[32m━━━━━━━━━━━━━━━━━━━━\u001b[0m\u001b[37m\u001b[0m \u001b[1m10s\u001b[0m 504ms/step - accuracy: 0.5338 - loss: 0.0925 - val_accuracy: 0.4500 - val_loss: 1.1504\n",
      "Epoch 8/100\n",
      "\u001b[1m20/20\u001b[0m \u001b[32m━━━━━━━━━━━━━━━━━━━━\u001b[0m\u001b[37m\u001b[0m \u001b[1m10s\u001b[0m 514ms/step - accuracy: 0.5667 - loss: 0.0657 - val_accuracy: 0.4437 - val_loss: 1.3263\n",
      "Epoch 9/100\n",
      "\u001b[1m20/20\u001b[0m \u001b[32m━━━━━━━━━━━━━━━━━━━━\u001b[0m\u001b[37m\u001b[0m \u001b[1m10s\u001b[0m 521ms/step - accuracy: 0.4947 - loss: 0.0603 - val_accuracy: 0.4437 - val_loss: 1.3573\n",
      "Epoch 10/100\n",
      "\u001b[1m20/20\u001b[0m \u001b[32m━━━━━━━━━━━━━━━━━━━━\u001b[0m\u001b[37m\u001b[0m \u001b[1m10s\u001b[0m 511ms/step - accuracy: 0.5250 - loss: 0.0518 - val_accuracy: 0.4563 - val_loss: 1.4134\n",
      "Epoch 11/100\n",
      "\u001b[1m20/20\u001b[0m \u001b[32m━━━━━━━━━━━━━━━━━━━━\u001b[0m\u001b[37m\u001b[0m \u001b[1m12s\u001b[0m 580ms/step - accuracy: 0.5319 - loss: 0.0486 - val_accuracy: 0.3750 - val_loss: 1.6684\n",
      "Epoch 12/100\n",
      "\u001b[1m20/20\u001b[0m \u001b[32m━━━━━━━━━━━━━━━━━━━━\u001b[0m\u001b[37m\u001b[0m \u001b[1m13s\u001b[0m 637ms/step - accuracy: 0.4986 - loss: 0.0727 - val_accuracy: 0.4250 - val_loss: 1.7235\n"
     ]
    },
    {
     "data": {
      "text/plain": [
       "<keras.src.callbacks.history.History at 0x26bb4c37df0>"
      ]
     },
     "execution_count": 78,
     "metadata": {},
     "output_type": "execute_result"
    }
   ],
   "source": [
    "# Train the model\n",
    "early_stopping = callbacks.EarlyStopping(monitor='val_loss', patience=10)\n",
    "model.fit(X_train, y_train, validation_split=0.2, epochs=100, callbacks=[early_stopping])\n"
   ]
  },
  {
   "cell_type": "code",
   "execution_count": null,
   "metadata": {},
   "outputs": [
    {
     "name": "stdout",
     "output_type": "stream",
     "text": [
      "\u001b[1m7/7\u001b[0m \u001b[32m━━━━━━━━━━━━━━━━━━━━\u001b[0m\u001b[37m\u001b[0m \u001b[1m1s\u001b[0m 124ms/step\n",
      "[[1. 1. 0. 0.]\n",
      " [1. 0. 1. 0.]\n",
      " [0. 0. 1. 1.]\n",
      " [0. 1. 1. 0.]\n",
      " [1. 1. 1. 1.]\n",
      " [0. 1. 1. 1.]\n",
      " [0. 1. 1. 0.]\n",
      " [0. 1. 1. 1.]\n",
      " [0. 1. 1. 1.]\n",
      " [1. 1. 0. 0.]]\n",
      "[[1. 0. 0. 0.]\n",
      " [0. 1. 0. 0.]\n",
      " [0. 0. 1. 1.]\n",
      " [0. 0. 1. 1.]\n",
      " [0. 0. 0. 1.]\n",
      " [0. 0. 1. 1.]\n",
      " [0. 0. 1. 1.]\n",
      " [0. 0. 1. 1.]\n",
      " [0. 1. 1. 1.]\n",
      " [1. 0. 0. 1.]]\n"
     ]
    }
   ],
   "source": [
    "# add a dimension to the data\n",
    "X_train = X_train[..., np.newaxis]\n",
    "X_test = X_test[..., np.newaxis]\n",
    "\n",
    "y_pred = model.predict(X_test)\n",
    "print(np.round(y_pred[:10]))\n",
    "print(y_test[:10])"
   ]
  },
  {
   "cell_type": "code",
   "execution_count": null,
   "metadata": {},
   "outputs": [],
   "source": []
  },
  {
   "cell_type": "code",
   "execution_count": null,
   "metadata": {},
   "outputs": [],
   "source": []
  },
  {
   "cell_type": "code",
   "execution_count": null,
   "metadata": {},
   "outputs": [],
   "source": [
    "\n"
   ]
  },
  {
   "cell_type": "code",
   "execution_count": null,
   "metadata": {},
   "outputs": [
    {
     "name": "stdout",
     "output_type": "stream",
     "text": [
      "\u001b[1m1/1\u001b[0m \u001b[32m━━━━━━━━━━━━━━━━━━━━\u001b[0m\u001b[37m\u001b[0m \u001b[1m0s\u001b[0m 22ms/step\n",
      "Predicted probabilities: [0. 0. 1.]\n",
      "The predicted labels are: ['keyboard']\n"
     ]
    }
   ],
   "source": [
    "def predict_instruments(wav_file, model, mlb):\n",
    "    waveform, _ = read_wav_file(wav_file)\n",
    "    #waveform = normalize_waveform(waveform)\n",
    "    f, t, Zxx = stft(waveform, nperseg=1024)  # Adjust nperseg as necessary\n",
    "    X = np.array([np.abs(Zxx)])\n",
    "    y_pred = model.predict(X)[0]  # Get predictions for the first (and only) sample\n",
    "    print(\"Predicted probabilities:\", y_pred)\n",
    "    threshold = 0.5  # Adjust as needed\n",
    "    predicted_labels = mlb.classes_[y_pred > threshold]  # Select labels above the threshold\n",
    "    return predicted_labels.tolist()  # Convert to list for consistent output format\n",
    "\n",
    "# Predict the instruments in the mixed audio file\n",
    "predicted_labels = predict_instruments('combo.wav', model, mlb)\n",
    "print(f'The predicted labels are: {predicted_labels}')"
   ]
  },
  {
   "cell_type": "code",
   "execution_count": null,
   "metadata": {},
   "outputs": [
    {
     "name": "stdout",
     "output_type": "stream",
     "text": [
      "\u001b[1m1/1\u001b[0m \u001b[32m━━━━━━━━━━━━━━━━━━━━\u001b[0m\u001b[37m\u001b[0m \u001b[1m0s\u001b[0m 22ms/step\n",
      "The predicted labels are: [('keyboard',)]\n"
     ]
    }
   ],
   "source": [
    "# Predict the instruments in the mixed audio file\n",
    "predicted_labels = predict_instruments('combo.wav', model, mlb)\n",
    "print(f'The predicted labels are: {predicted_labels}')\n"
   ]
  },
  {
   "cell_type": "markdown",
   "metadata": {},
   "source": [
    "### Unet approach\n"
   ]
  },
  {
   "cell_type": "code",
   "execution_count": 4,
   "metadata": {},
   "outputs": [],
   "source": [
    "import numpy as np\n",
    "from scipy import signal\n",
    "\n",
    "def audio_to_spectrogram(audio, nperseg=2048, noverlap=512):\n",
    "    if not np.issubdtype(audio.dtype, np.floating):\n",
    "        audio = audio.astype(np.float32)\n",
    "    freq,time ,spectrogram = signal.spectrogram(audio, nperseg=nperseg, noverlap=noverlap)\n",
    "    #spectrogram = np.abs(spectrogram)\n",
    "    return spectrogram.astype(np.float32)\n",
    "\n",
    "def pad_spectrogram(spec, target_shape):\n",
    "    padded_spec = np.zeros(target_shape)\n",
    "    min_shape = np.minimum(target_shape, spec.shape)\n",
    "    padded_spec[:min_shape[0], :min_shape[1]] = spec[:min_shape[0], :min_shape[1]]\n",
    "    return padded_spec\n",
    "\n",
    "\n",
    "def normalize_spectrogram(spec):\n",
    "    return (spec - np.mean(spec)) / np.std(spec)\n",
    "\n",
    "def pick_samples_and_classify(arrays):\n",
    "    #Picks a random number of samples, and returns their filepath and label\n",
    "    instruments = []\n",
    "    #pick at minimum two instruments\n",
    "    number_of_instruments = np.random.randint(2, len(arrays) + 1)\n",
    "    labels = np.zeros(len(arrays))\n",
    "    already_picked = []\n",
    "\n",
    "    while len(instruments) < number_of_instruments:\n",
    "        random_pick = np.random.randint(0, len(arrays))\n",
    "        if random_pick in already_picked:\n",
    "            break\n",
    "        else:\n",
    "            already_picked.append(random_pick)\n",
    "            pick = np.random.choice(arrays[random_pick], 1)\n",
    "            instruments.append(pick)\n",
    "            labels[random_pick] = 1\n",
    "\n",
    "    return instruments, labels\n",
    "#read the filenames, and add their data to 5 lists\n",
    "def add_waveform_to_list(filenames):\n",
    "    waveforms = []\n",
    "    for filename in filenames:\n",
    "        waveform, params = read_wav_file_scipy(path + filename[0])\n",
    "        waveforms.append(waveform)\n",
    "    return waveforms\n",
    "\n",
    "def combine_waveforms(waveforms):\n",
    "    return np.sum(waveforms, axis=0)  # Combine waveforms by summing them. Brute force method, but it works\n"
   ]
  },
  {
   "cell_type": "code",
   "execution_count": 5,
   "metadata": {},
   "outputs": [],
   "source": [
    "def gen_spectrogram_set_spectroy(N, target_shape=(129, 285), nperseg=2048, noverlap=512):\n",
    "    data = []\n",
    "    labels = []\n",
    "    \n",
    "    for i in range(N):\n",
    "        paths, label = pick_samples_and_classify([bass, guitar, flutes, keyboards])\n",
    "        waveforms = add_waveform_to_list(paths)\n",
    "        mixed_waveform = combine_waveforms(waveforms)\n",
    "        \n",
    "        mixed_spectro = audio_to_spectrogram(mixed_waveform, nperseg, noverlap)\n",
    "        mixed_spectro_padded = pad_spectrogram(mixed_spectro, target_shape)\n",
    "        mixed_spectro_normalized = normalize_spectrogram(mixed_spectro_padded)\n",
    "        \n",
    "        inter_waveforms = []\n",
    "        for waveform in waveforms:\n",
    "            spectro = audio_to_spectrogram(waveform, nperseg, noverlap)\n",
    "            spectro_padded = pad_spectrogram(spectro, target_shape)\n",
    "            spectro_normalized = normalize_spectrogram(spectro_padded)\n",
    "            inter_waveforms.append(spectro_normalized)\n",
    "        \n",
    "        data.append(mixed_spectro_normalized)\n",
    "        labels.append(inter_waveforms)\n",
    "    \n",
    "    data = np.array(data)\n",
    "    \n",
    "    # Determine the maximum number of sources\n",
    "    max_sources = max(len(label) for label in labels)\n",
    "    \n",
    "    # Pad or truncate each label array to have the same number of sources\n",
    "    for i in range(len(labels)):\n",
    "        while len(labels[i]) < max_sources:\n",
    "            labels[i].append(np.zeros(target_shape))  # Pad with zeros\n",
    "        if len(labels[i]) > max_sources:\n",
    "            labels[i] = labels[i][:max_sources]  # Truncate to max_sources\n",
    "    \n",
    "    labels = np.array(labels)\n",
    "    \n",
    "    return data, labels\n"
   ]
  },
  {
   "cell_type": "code",
   "execution_count": 6,
   "metadata": {},
   "outputs": [
    {
     "name": "stdout",
     "output_type": "stream",
     "text": [
      "(1000, 129, 285)\n",
      "(1000, 4, 129, 285)\n"
     ]
    }
   ],
   "source": [
    "target_shape = (129, 285)\n",
    "N = 1000  # Number of samples\n",
    "\n",
    "data, labels = gen_spectrogram_set_spectroy(N, target_shape)\n",
    "\n",
    "print(data.shape)  # Should be (N, 1025, 128)\n",
    "print(labels.shape)\n"
   ]
  },
  {
   "cell_type": "code",
   "execution_count": 7,
   "metadata": {},
   "outputs": [
    {
     "name": "stdout",
     "output_type": "stream",
     "text": [
      "(800, 4, 129, 285)\n",
      "(800, 1, 129, 285)\n",
      "torch.Size([32, 1, 129, 285])\n"
     ]
    }
   ],
   "source": [
    "# Write a multi-source audio seperation function using a unet model from torch\n",
    "import torch\n",
    "import torch.nn as nn\n",
    "import torch.nn.functional as F\n",
    "import torch.optim as optim\n",
    "from torch.utils.data import DataLoader, Dataset\n",
    "from sklearn.model_selection import train_test_split\n",
    "\n",
    "class AudioDataset(Dataset):\n",
    "    def __init__(self, data, labels):\n",
    "        self.data = data\n",
    "        self.labels = labels\n",
    "\n",
    "    def __len__(self):\n",
    "        return len(self.data)\n",
    "\n",
    "    def __getitem__(self, idx):\n",
    "        return self.data[idx], self.labels[idx]\n",
    "    \n",
    "class UNet(nn.Module):\n",
    "    def __init__(self,input_channels = 1,output_channels = 4):\n",
    "        super(UNet, self).__init__()\n",
    "        # Define the contracting/downsampling path\n",
    "        self.conv1 = nn.Conv2d(input_channels, 16, 3, padding=1)\n",
    "        self.conv2 = nn.Conv2d(16, 32, 3, padding=1)\n",
    "        # Add max pooling layers for downsampling\n",
    "        self.pool = nn.MaxPool2d(2, 2)\n",
    "        \n",
    "        # Define the expanding/upsampling path\n",
    "        # Add transpose convolutional layers for upsampling\n",
    "        self.upconv1 = nn.ConvTranspose2d(32, 16, 2, stride=2)\n",
    "        self.conv3 = nn.Conv2d(32, 16, 3, padding=1)\n",
    "        self.upconv2 = nn.ConvTranspose2d(16, 8, 2, stride=2)\n",
    "        self.conv4 = nn.Conv2d(24, 8, 3, padding=1)\n",
    "        self.conv5 = nn.Conv2d(8, output_channels, 3, padding=1)\n",
    "\n",
    "    def forward(self, x):\n",
    "        # Contracting path\n",
    "        x1 = F.relu(self.conv1(x))\n",
    "        x2 = self.pool(F.relu(self.conv2(x1)))\n",
    "        \n",
    "        # Expanding path with skip connections\n",
    "        x = self.upconv1(x2)\n",
    "        x = F.interpolate(x, size=(x1.size(2), x1.size(3)), mode='bilinear', align_corners=True)\n",
    "        x = torch.cat([x, x1], dim=1)\n",
    "        x = F.relu(self.conv3(x))\n",
    "        \n",
    "        x = self.upconv2(x)\n",
    "        x = F.interpolate(x, size=(x1.size(2), x1.size(3)), mode='bilinear', align_corners=True)\n",
    "        # Before concatenation in forward method\n",
    "        #print(\"Shape of x before concatenation:\", x.shape)\n",
    "        #print(\"Shape of x1 before concatenation:\", x1.shape)\n",
    "        x = torch.cat([x, x1], dim=1)\n",
    "        #print(\"Shape of x after concatenation:\", x.shape)\n",
    "        x = F.relu(self.conv4(x))\n",
    "        \n",
    "        x = self.conv5(x)\n",
    "        return x\n",
    "# Split the data into training and testing sets\n",
    "#data = data[..., np.newaxis]\n",
    "X_train, X_test, y_train, y_test = train_test_split(data, labels, test_size=0.2, random_state=42)\n",
    "print(y_train.shape)\n",
    "X_train = np.expand_dims(X_train, axis=1)\n",
    "X_test = np.expand_dims(X_test, axis=1)\n",
    "print(X_train.shape)\n",
    "# Create the datasets and dataloaders\n",
    "train_dataset = AudioDataset(X_train, y_train)\n",
    "test_dataset = AudioDataset(X_test, y_test)\n",
    "train_loader = DataLoader(train_dataset, batch_size=32, shuffle=True)\n",
    "test_loader = DataLoader(test_dataset, batch_size=32, shuffle=False)\n",
    "#print(train_dataset[0][0].shape)\n",
    "\n",
    "# Get a batch of data\n",
    "inputs, targets = next(iter(train_loader))\n",
    "\n",
    "# Print the shape of the inputs\n",
    "print(inputs.shape)"
   ]
  },
  {
   "cell_type": "code",
   "execution_count": 8,
   "metadata": {},
   "outputs": [
    {
     "name": "stdout",
     "output_type": "stream",
     "text": [
      "Epoch 1, Loss: 0.4682\n",
      "Epoch 2, Loss: 0.3872\n",
      "Epoch 3, Loss: 0.3639\n"
     ]
    }
   ],
   "source": [
    "# Initialize the model, loss function, and optimizer\n",
    "device = torch.device(\"cuda\" if torch.cuda.is_available() else \"cpu\")\n",
    "input_channels = X_train.shape[1]  # Get the number of input channels from the data\n",
    "model = UNet(input_channels=input_channels,output_channels=4).to(device, dtype=torch.float32)\n",
    "criterion = nn.MSELoss()\n",
    "optimizer = optim.Adam(model.parameters(), lr=0.001)\n",
    "#print(model)\n",
    "# Train the model\n",
    "num_epochs = 10\n",
    "for epoch in range(num_epochs):\n",
    "    model.train()\n",
    "    running_loss = 0.0\n",
    "    for X, y in train_loader:\n",
    "        X, y = X.to(device, dtype=torch.float32), y.to(device, dtype=torch.float32)\n",
    "\n",
    "        #print(f\"Shape of x : {X.shape},Shape of y {y.shape}\")\n",
    "        optimizer.zero_grad()\n",
    "        y_pred = model(X)\n",
    "        loss = criterion(y_pred, y)\n",
    "        loss.backward()\n",
    "        optimizer.step()\n",
    "        running_loss += loss.item() * X.size(0)  # Accumulate loss\n",
    "    \n",
    "    epoch_loss = running_loss / len(train_loader.dataset)\n",
    "    print(f'Epoch {epoch + 1}, Loss: {epoch_loss:.4f}')\n",
    "\n",
    "# Evaluate the model\n",
    "model.eval()\n",
    "losses = []\n",
    "weights = []\n",
    "with torch.no_grad():\n",
    "    for X, y in test_loader:\n",
    "        X, y = X.to(device, dtype=torch.float32), y.to(device, dtype=torch.float32)\n",
    "        y_pred = model(X)\n",
    "        loss = criterion(y_pred, y)\n",
    "        losses.append(loss.item() * X.size(0))\n",
    "        weights.append(X.size(0))\n",
    "\n",
    "    \n",
    "\n",
    "average_loss = sum(losses) / len(test_loader.dataset)\n",
    "print(f'Average Loss: {average_loss:.4f}')\n",
    "torch.save(model.state_dict(), 'your_model_weights.pth')\n"
   ]
  },
  {
   "cell_type": "code",
   "execution_count": 32,
   "metadata": {},
   "outputs": [],
   "source": [
    "import torch\n",
    "import numpy as np\n",
    "import scipy.signal as signal\n",
    "import wave\n",
    "import soundfile as sf\n",
    "import librosa\n",
    "# Initialize and load the model\n",
    "device = torch.device(\"cuda\" if torch.cuda.is_available() else \"cpu\")\n",
    "model = UNet(input_channels=1).to(device)\n",
    "model.load_state_dict(torch.load('your_model_weights.pth', map_location=device))\n",
    "model.eval()\n",
    "\n",
    "# Load input audio data using wave\n",
    "with wave.open('combo.wav', 'rb') as wf:\n",
    "    input_audio = wf.readframes(-1)\n",
    "    input_sr = wf.getframerate()\n",
    "\n",
    "# Convert input audio to numpy array\n",
    "input_audio = np.frombuffer(input_audio, dtype=np.int16)\n",
    "\n",
    "# Compute spectrogram using scipy.signal.spectrogram\n",
    "freqs, times, spectrogram = signal.spectrogram(input_audio, fs=input_sr)\n",
    "\n",
    "# Convert spectrogram to PyTorch tensor\n",
    "input_tensor = torch.tensor(spectrogram, dtype=torch.float32).unsqueeze(0).unsqueeze(0).to(device, dtype=torch.float32)  # Add batch and channel dimensions\n",
    "\n",
    "# Pass input through the model to get predictions\n",
    "with torch.no_grad():\n",
    "    output_tensor = model(input_tensor)\n",
    "\n",
    "# Convert output tensor to numpy array and save as audio files\n",
    "output_tensor = output_tensor.squeeze().cpu().numpy()\n",
    "output_folder = \"output_audio\"\n",
    "# Create the output folder if it doesn't exist\n",
    "os.makedirs(output_folder, exist_ok=True)\n",
    "\n",
    "\n",
    "# Convert each source back from spectrogram to audio and save\n",
    "for i, source in enumerate(output_tensor):\n",
    "    # Convert the spectrogram back to audio\n",
    "    audio = librosa.feature.inverse.mel_to_audio(source)\n",
    "    # Save the audio in the specified folder\n",
    "    sf.write(os.path.join(output_folder, f'source{i + 1}.wav'), audio, input_sr)\n"
   ]
  },
  {
   "cell_type": "code",
   "execution_count": null,
   "metadata": {},
   "outputs": [],
   "source": []
  },
  {
   "cell_type": "code",
   "execution_count": 10,
   "metadata": {},
   "outputs": [],
   "source": []
  },
  {
   "cell_type": "code",
   "execution_count": null,
   "metadata": {},
   "outputs": [],
   "source": []
  },
  {
   "cell_type": "code",
   "execution_count": null,
   "metadata": {},
   "outputs": [],
   "source": []
  },
  {
   "cell_type": "code",
   "execution_count": null,
   "metadata": {},
   "outputs": [],
   "source": []
  }
 ],
 "metadata": {
  "kernelspec": {
   "display_name": "Scientific_4_part_2_1_torch.ipynb",
   "language": "python",
   "name": "python3"
  },
  "language_info": {
   "codemirror_mode": {
    "name": "ipython",
    "version": 3
   },
   "file_extension": ".py",
   "mimetype": "text/x-python",
   "name": "python",
   "nbconvert_exporter": "python",
   "pygments_lexer": "ipython3",
   "version": "3.11.5"
  }
 },
 "nbformat": 4,
 "nbformat_minor": 2
}
